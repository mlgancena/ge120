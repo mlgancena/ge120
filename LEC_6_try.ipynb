{
  "nbformat": 4,
  "nbformat_minor": 0,
  "metadata": {
    "colab": {
      "provenance": [],
      "authorship_tag": "ABX9TyPG3/dBOp0VKllvf3MWy/z/",
      "include_colab_link": true
    },
    "kernelspec": {
      "name": "python3",
      "display_name": "Python 3"
    },
    "language_info": {
      "name": "python"
    }
  },
  "cells": [
    {
      "cell_type": "markdown",
      "metadata": {
        "id": "view-in-github",
        "colab_type": "text"
      },
      "source": [
        "<a href=\"https://colab.research.google.com/github/mlgancena/ge120/blob/main/LEC_6_try.ipynb\" target=\"_parent\"><img src=\"https://colab.research.google.com/assets/colab-badge.svg\" alt=\"Open In Colab\"/></a>"
      ]
    },
    {
      "cell_type": "markdown",
      "source": [
        "# 6: Exception Handling and Files"
      ],
      "metadata": {
        "id": "_k1iGaMU9N0V"
      }
    },
    {
      "cell_type": "markdown",
      "source": [
        "When writing a program, we, more often than not, will encounter errors\n",
        "* syntax error - caused by not following structure/syntax of the language\n",
        "* logical error - caused when the syntax is correct but there is an irrational event changing the porgram flow --> EXCEPTIONS"
      ],
      "metadata": {
        "id": "G2-fie6W9UnK"
      }
    },
    {
      "cell_type": "code",
      "source": [
        "# syntax error\n",
        "print('GE120)"
      ],
      "metadata": {
        "colab": {
          "base_uri": "https://localhost:8080/",
          "height": 106
        },
        "id": "ZqyrJkytOgoS",
        "outputId": "a5fadb8a-e623-45af-8359-8eb3672e9567"
      },
      "execution_count": null,
      "outputs": [
        {
          "output_type": "error",
          "ename": "SyntaxError",
          "evalue": "unterminated string literal (detected at line 2) (<ipython-input-1-21081dab4adf>, line 2)",
          "traceback": [
            "\u001b[0;36m  File \u001b[0;32m\"<ipython-input-1-21081dab4adf>\"\u001b[0;36m, line \u001b[0;32m2\u001b[0m\n\u001b[0;31m    print('GE120)\u001b[0m\n\u001b[0m          ^\u001b[0m\n\u001b[0;31mSyntaxError\u001b[0m\u001b[0;31m:\u001b[0m unterminated string literal (detected at line 2)\n"
          ]
        }
      ]
    },
    {
      "cell_type": "code",
      "source": [
        "# logical error\n",
        "alist = [0,2,4,6]\n",
        "print(alist[4])"
      ],
      "metadata": {
        "colab": {
          "base_uri": "https://localhost:8080/",
          "height": 165
        },
        "id": "TXQqeFrVOmCe",
        "outputId": "85d26a1c-d413-4e50-dc34-55a8b6c90ffc"
      },
      "execution_count": null,
      "outputs": [
        {
          "output_type": "error",
          "ename": "IndexError",
          "evalue": "list index out of range",
          "traceback": [
            "\u001b[0;31m---------------------------------------------------------------------------\u001b[0m",
            "\u001b[0;31mIndexError\u001b[0m                                Traceback (most recent call last)",
            "\u001b[0;32m<ipython-input-4-b62b695c01c8>\u001b[0m in \u001b[0;36m<cell line: 2>\u001b[0;34m()\u001b[0m\n\u001b[1;32m      1\u001b[0m \u001b[0malist\u001b[0m \u001b[0;34m=\u001b[0m \u001b[0;34m[\u001b[0m\u001b[0;36m0\u001b[0m\u001b[0;34m,\u001b[0m\u001b[0;36m2\u001b[0m\u001b[0;34m,\u001b[0m\u001b[0;36m4\u001b[0m\u001b[0;34m,\u001b[0m\u001b[0;36m6\u001b[0m\u001b[0;34m]\u001b[0m\u001b[0;34m\u001b[0m\u001b[0;34m\u001b[0m\u001b[0m\n\u001b[0;32m----> 2\u001b[0;31m \u001b[0mprint\u001b[0m\u001b[0;34m(\u001b[0m\u001b[0malist\u001b[0m\u001b[0;34m[\u001b[0m\u001b[0;36m4\u001b[0m\u001b[0;34m]\u001b[0m\u001b[0;34m)\u001b[0m\u001b[0;34m\u001b[0m\u001b[0;34m\u001b[0m\u001b[0m\n\u001b[0m",
            "\u001b[0;31mIndexError\u001b[0m: list index out of range"
          ]
        }
      ]
    },
    {
      "cell_type": "code",
      "source": [
        "# logical error ulit\n",
        "2/0"
      ],
      "metadata": {
        "colab": {
          "base_uri": "https://localhost:8080/",
          "height": 159
        },
        "id": "med_I05u-D1g",
        "outputId": "4a10d5d3-8b82-4ddf-d194-aa11ed2ebc21"
      },
      "execution_count": null,
      "outputs": [
        {
          "output_type": "error",
          "ename": "ZeroDivisionError",
          "evalue": "division by zero",
          "traceback": [
            "\u001b[0;31m---------------------------------------------------------------------------\u001b[0m",
            "\u001b[0;31mZeroDivisionError\u001b[0m                         Traceback (most recent call last)",
            "\u001b[0;32m<ipython-input-2-f3df02f290b9>\u001b[0m in \u001b[0;36m<cell line: 2>\u001b[0;34m()\u001b[0m\n\u001b[1;32m      1\u001b[0m \u001b[0;31m# logical error ulit\u001b[0m\u001b[0;34m\u001b[0m\u001b[0;34m\u001b[0m\u001b[0m\n\u001b[0;32m----> 2\u001b[0;31m \u001b[0;36m2\u001b[0m\u001b[0;34m/\u001b[0m\u001b[0;36m0\u001b[0m\u001b[0;34m\u001b[0m\u001b[0;34m\u001b[0m\u001b[0m\n\u001b[0m",
            "\u001b[0;31mZeroDivisionError\u001b[0m: division by zero"
          ]
        }
      ]
    },
    {
      "cell_type": "code",
      "source": [
        "# logical error ulit\n",
        "print(varrrr)"
      ],
      "metadata": {
        "colab": {
          "base_uri": "https://localhost:8080/",
          "height": 146
        },
        "id": "_Z0a7E_fOjjn",
        "outputId": "e6bf7979-ba17-415f-dd0a-53f91de1c655"
      },
      "execution_count": null,
      "outputs": [
        {
          "output_type": "error",
          "ename": "NameError",
          "evalue": "name 'varrrr' is not defined",
          "traceback": [
            "\u001b[0;31m---------------------------------------------------------------------------\u001b[0m",
            "\u001b[0;31mNameError\u001b[0m                                 Traceback (most recent call last)",
            "\u001b[0;32m<ipython-input-6-42baa0012459>\u001b[0m in \u001b[0;36m<cell line: 1>\u001b[0;34m()\u001b[0m\n\u001b[0;32m----> 1\u001b[0;31m \u001b[0mprint\u001b[0m\u001b[0;34m(\u001b[0m\u001b[0mvarrrr\u001b[0m\u001b[0;34m)\u001b[0m\u001b[0;34m\u001b[0m\u001b[0;34m\u001b[0m\u001b[0m\n\u001b[0m",
            "\u001b[0;31mNameError\u001b[0m: name 'varrrr' is not defined"
          ]
        }
      ]
    },
    {
      "cell_type": "markdown",
      "source": [
        "* Whenever errors occur, Python creates an exception until it is handled\n",
        "* If not handled properlt, it prints a traceback to that error along with some details about why that error occured"
      ],
      "metadata": {
        "id": "_5TUTJqv-OSA"
      }
    },
    {
      "cell_type": "markdown",
      "source": [
        "Exception Handling: Brute force\n",
        "\n",
        "Perform a task\n",
        "* if preceding task did not execute correctly -> Perform error processing\n",
        "\n",
        "Perform next task\n",
        "* if preceding task did not execute correctly -> Perform error processing\n",
        "\n",
        "error handling codes - mga naka bullet point"
      ],
      "metadata": {
        "id": "MNqMIuFL-ihq"
      }
    },
    {
      "cell_type": "markdown",
      "source": [
        "Exception Handling\n",
        "* improve clarity and enhance modifiability - by removing the error handling codes from program\n",
        "* programs operate more efficiently\n",
        "* enables programmers to create programs that handle exceptions as if no errors were encountered\n",
        "* raise KeyError\n",
        "\n",
        "Advantages\n",
        "1. handle the error by catching/handling the exception\n",
        "2. continue processing as if no error occured OR terminate processing in a controlled manner\n",
        "3. more clear, robust and fault-tolerant programs\n",
        "\n",
        "Disadvantages\n",
        "1. many exceptions are difficult to keep track,"
      ],
      "metadata": {
        "id": "Hgz1SdUcPSMI"
      }
    },
    {
      "cell_type": "markdown",
      "source": [
        "Statements -> Exception? (True or False)\n",
        "\n",
        "If False -> the rest of the program\n",
        "\n",
        "If true -> Handler? (Exception handling or terminate to output error)\n",
        "\n",
        "Handler\n",
        "* no guarantee that there will be an exception handler\n",
        "* if none, program terminates and outputs error statement\n",
        "* if there is, the exception is caught and handled/resolved\n",
        "* handling can just be terminating program and output statement sayin g that an error has occured (not the usual error form na red)"
      ],
      "metadata": {
        "id": "YA1RH2Xa_yQL"
      }
    },
    {
      "cell_type": "code",
      "source": [
        "# logical error ulit\n",
        "2/0"
      ],
      "metadata": {
        "colab": {
          "base_uri": "https://localhost:8080/",
          "height": 159
        },
        "id": "6fNVj4wUAKiU",
        "outputId": "77028da6-7843-4b42-ef47-23275132c060"
      },
      "execution_count": null,
      "outputs": [
        {
          "output_type": "error",
          "ename": "ZeroDivisionError",
          "evalue": "division by zero",
          "traceback": [
            "\u001b[0;31m---------------------------------------------------------------------------\u001b[0m",
            "\u001b[0;31mZeroDivisionError\u001b[0m                         Traceback (most recent call last)",
            "\u001b[0;32m<ipython-input-3-f3df02f290b9>\u001b[0m in \u001b[0;36m<cell line: 2>\u001b[0;34m()\u001b[0m\n\u001b[1;32m      1\u001b[0m \u001b[0;31m# logical error ulit\u001b[0m\u001b[0;34m\u001b[0m\u001b[0;34m\u001b[0m\u001b[0m\n\u001b[0;32m----> 2\u001b[0;31m \u001b[0;36m2\u001b[0m\u001b[0;34m/\u001b[0m\u001b[0;36m0\u001b[0m\u001b[0;34m\u001b[0m\u001b[0;34m\u001b[0m\u001b[0m\n\u001b[0m",
            "\u001b[0;31mZeroDivisionError\u001b[0m: division by zero"
          ]
        }
      ]
    },
    {
      "cell_type": "markdown",
      "source": [
        "^^^\n",
        "Program raises or throws an exception when it detects an error\n",
        "\n",
        "Raise Exceptions\n",
        "* raise statement\n",
        "* allows programmer to force a specified exception to occur"
      ],
      "metadata": {
        "id": "eXWKWm70AQSQ"
      }
    },
    {
      "cell_type": "code",
      "source": [
        "print(1)\n",
        "raise ValueError\n",
        "print(2)\n",
        "\n",
        "# pag wala yung raise ValueError, gagana yung code\n",
        "# pero parang finorce mo na iraise ung value error\n",
        "# ikaw yung gumawa ng 'error' kasi niraise mo sya"
      ],
      "metadata": {
        "colab": {
          "base_uri": "https://localhost:8080/",
          "height": 193
        },
        "id": "FdOwzAqKAhiJ",
        "outputId": "a39709da-ea2f-4511-b3f7-cbfa7f885a6d"
      },
      "execution_count": null,
      "outputs": [
        {
          "output_type": "stream",
          "name": "stdout",
          "text": [
            "1\n"
          ]
        },
        {
          "output_type": "error",
          "ename": "ValueError",
          "evalue": "",
          "traceback": [
            "\u001b[0;31m---------------------------------------------------------------------------\u001b[0m",
            "\u001b[0;31mValueError\u001b[0m                                Traceback (most recent call last)",
            "\u001b[0;32m<ipython-input-6-990863ff3a0f>\u001b[0m in \u001b[0;36m<cell line: 2>\u001b[0;34m()\u001b[0m\n\u001b[1;32m      1\u001b[0m \u001b[0mprint\u001b[0m\u001b[0;34m(\u001b[0m\u001b[0;36m1\u001b[0m\u001b[0;34m)\u001b[0m\u001b[0;34m\u001b[0m\u001b[0;34m\u001b[0m\u001b[0m\n\u001b[0;32m----> 2\u001b[0;31m \u001b[0;32mraise\u001b[0m \u001b[0mValueError\u001b[0m\u001b[0;34m\u001b[0m\u001b[0;34m\u001b[0m\u001b[0m\n\u001b[0m\u001b[1;32m      3\u001b[0m \u001b[0mprint\u001b[0m\u001b[0;34m(\u001b[0m\u001b[0;36m2\u001b[0m\u001b[0;34m)\u001b[0m\u001b[0;34m\u001b[0m\u001b[0;34m\u001b[0m\u001b[0m\n",
            "\u001b[0;31mValueError\u001b[0m: "
          ]
        }
      ]
    },
    {
      "cell_type": "markdown",
      "source": [
        "* you can pass an argument in the raise statement\n",
        "* to give detail about the exception and to clarify why that exception was raised\n",
        "* catching and handling exceptions enable a program to know when an error has occured, then to take actions to minimize the consequences of that error"
      ],
      "metadata": {
        "id": "_I7ZUzuzBOi6"
      }
    },
    {
      "cell_type": "code",
      "source": [
        "name = '123'\n",
        "raise NameError('Invalid name stopid') # pag wala to, gagana yung code\n"
      ],
      "metadata": {
        "colab": {
          "base_uri": "https://localhost:8080/",
          "height": 159
        },
        "id": "WFG5Hz3XRoKY",
        "outputId": "f076f76a-0c2f-4942-960a-b0e9a7d6fb48"
      },
      "execution_count": null,
      "outputs": [
        {
          "output_type": "error",
          "ename": "NameError",
          "evalue": "Invalid name stopid",
          "traceback": [
            "\u001b[0;31m---------------------------------------------------------------------------\u001b[0m",
            "\u001b[0;31mNameError\u001b[0m                                 Traceback (most recent call last)",
            "\u001b[0;32m<ipython-input-9-78f99577ce86>\u001b[0m in \u001b[0;36m<cell line: 2>\u001b[0;34m()\u001b[0m\n\u001b[1;32m      1\u001b[0m \u001b[0mname\u001b[0m \u001b[0;34m=\u001b[0m \u001b[0;34m'123'\u001b[0m\u001b[0;34m\u001b[0m\u001b[0;34m\u001b[0m\u001b[0m\n\u001b[0;32m----> 2\u001b[0;31m \u001b[0;32mraise\u001b[0m \u001b[0mNameError\u001b[0m\u001b[0;34m(\u001b[0m\u001b[0;34m'Invalid name stopid'\u001b[0m\u001b[0;34m)\u001b[0m \u001b[0;31m# pag wala to, gagana yung code\u001b[0m\u001b[0;34m\u001b[0m\u001b[0;34m\u001b[0m\u001b[0m\n\u001b[0m",
            "\u001b[0;31mNameError\u001b[0m: Invalid name stopid"
          ]
        }
      ]
    },
    {
      "cell_type": "markdown",
      "source": [
        "Try and Except\n",
        "* try statements - to handle exceptions, encloses statements that potentially cause exceptions\n",
        "* except clauses - how exceptions are caught, one or more, specifies zero or more exception names that represent the exceptions it will catch and handle\n"
      ],
      "metadata": {
        "id": "UmnqYipoSREH"
      }
    },
    {
      "cell_type": "code",
      "source": [
        "try: # encloses statements that potentially cause exceptions\n",
        "  print(1/0)\n",
        "except ZeroDivisionError: # specifies exception name that it will catch and handle\n",
        "  print('haha error') # print this if except clause is fulfilled\n",
        "print('Mapriprint pa ba ako') # this prints because it is outside the try-except statements"
      ],
      "metadata": {
        "colab": {
          "base_uri": "https://localhost:8080/"
        },
        "id": "80P6I41qSeR8",
        "outputId": "9ad01fc0-22c3-4720-a7e2-bc785f789cec"
      },
      "execution_count": null,
      "outputs": [
        {
          "output_type": "stream",
          "name": "stdout",
          "text": [
            "haha error\n",
            "Mapriprint pa ba ako\n"
          ]
        }
      ]
    },
    {
      "cell_type": "code",
      "source": [
        "try:\n",
        "  alist = [1,2,3] #\n",
        "  print(alist[5]) # since error na sya dito\n",
        "  print(1/0)\n",
        "  print(yesss)\n",
        "except IndexError:\n",
        "    print('wala kang 4 sa list mo acla') # diretsyo na sya dito, di na nakita yung 1/0\n",
        "except ZeroDivisionError:\n",
        "    print('haha nagdivide ng zero')\n",
        "except:  #catch all\n",
        "  print('panis iba error mo')"
      ],
      "metadata": {
        "colab": {
          "base_uri": "https://localhost:8080/"
        },
        "id": "FKtN6aJLSt9Z",
        "outputId": "7d1bd7a4-c66d-4451-9414-3aade06d8f0d"
      },
      "execution_count": null,
      "outputs": [
        {
          "output_type": "stream",
          "name": "stdout",
          "text": [
            "wala kang 4 sa list mo acla\n"
          ]
        }
      ]
    },
    {
      "cell_type": "code",
      "source": [
        "try:\n",
        "  print(1/0) # since error na sya dito\n",
        "  alist = [1,2,3] #\n",
        "  print(alist[5])\n",
        "  print(yesss)\n",
        "except IndexError:\n",
        "    print('wala kang 4 sa list mo acla')\n",
        "except ZeroDivisionError:\n",
        "    print('haha nagdivide ng zero') # diretsyo na sya dito, di na nakita yung nasa baba\n",
        "except:  #catch all\n",
        "  print('panis iba error mo')"
      ],
      "metadata": {
        "colab": {
          "base_uri": "https://localhost:8080/"
        },
        "id": "VLucy2EWDZYy",
        "outputId": "d5788db1-fcba-43c4-99ff-18c012376f1d"
      },
      "execution_count": null,
      "outputs": [
        {
          "output_type": "stream",
          "name": "stdout",
          "text": [
            "haha nagdivide ng zero\n"
          ]
        }
      ]
    },
    {
      "cell_type": "code",
      "source": [
        "try:\n",
        "  print(yesss) # since error na sya dito\n",
        "  print(1/0)\n",
        "  alist = [1,2,3] #\n",
        "  print(alist[5])\n",
        "except IndexError:\n",
        "    print('wala kang 4 sa list mo acla') # ignore, di naman index error\n",
        "except ZeroDivisionError:\n",
        "    print('haha nagdivide ng zero') # di rin naman sya zero division\n",
        "except:  #catch all, dito sya mapupunta\n",
        "  print('panis iba error mo')"
      ],
      "metadata": {
        "colab": {
          "base_uri": "https://localhost:8080/"
        },
        "id": "afjA_cZ9DkqJ",
        "outputId": "c368d753-b6e9-4b16-e7cc-f040d087d448"
      },
      "execution_count": null,
      "outputs": [
        {
          "output_type": "stream",
          "name": "stdout",
          "text": [
            "panis iba error mo\n"
          ]
        }
      ]
    },
    {
      "cell_type": "markdown",
      "source": [
        "* if exception occurs in try suite, try suite expires and program transfers to first matching except handler following the try suite - bali ung example sa taas, may naencounter na exception sa try -> iniskip ng program yung ibang nasa try suite and pumunta agad sa kamatch na exception handler\n",
        "* if no exceptions occur in try suite, the interpreter ignores the exception handlers for that try statement\n",
        "* empty except handler -> default catch-all phrase"
      ],
      "metadata": {
        "id": "NPGIbPfUD3On"
      }
    },
    {
      "cell_type": "code",
      "source": [
        "try:\n",
        "  aList = [0,1,2,3]\n",
        "  print(aList[4])\n",
        "except (IndexError,ZeroDivisionError):\n",
        "  print('It\\'s okay to encounter errors')"
      ],
      "metadata": {
        "colab": {
          "base_uri": "https://localhost:8080/"
        },
        "id": "B5T2wpg1ArHo",
        "outputId": "a80eacb9-45a7-446a-f381-19842ac44c55"
      },
      "execution_count": null,
      "outputs": [
        {
          "output_type": "stream",
          "name": "stdout",
          "text": [
            "It's okay to encounter errors\n"
          ]
        }
      ]
    },
    {
      "cell_type": "code",
      "source": [
        "try:\n",
        "  aList = [0,1,2,3]\n",
        "  print(aList[3]) # no error here, kaya nagprint\n",
        "  print(2/0) # error here\n",
        "except IndexError: # not satisfied\n",
        "  print('Oops! I don\\'t have that index')\n",
        "except: # catch-aal, pati zerodivisionerror\n",
        "  print('It\\'s okay to encounter errors')"
      ],
      "metadata": {
        "colab": {
          "base_uri": "https://localhost:8080/"
        },
        "id": "SBKXDu2HBFc_",
        "outputId": "d4ad5275-4312-411d-9a8a-bb5dbfb4e352"
      },
      "execution_count": null,
      "outputs": [
        {
          "output_type": "stream",
          "name": "stdout",
          "text": [
            "3\n",
            "It's okay to encounter errors\n"
          ]
        }
      ]
    },
    {
      "cell_type": "markdown",
      "source": [
        "Be cautious in using empty except handlers, exception handling done does not really tell anything about the error"
      ],
      "metadata": {
        "id": "dX1mM4mwBvFI"
      }
    },
    {
      "cell_type": "code",
      "source": [
        "while True:\n",
        "  try:\n",
        "    user = int(input('Enter an integer: '))\n",
        "    reciprocal = 1/user\n",
        "    break # if no error, lalabas na sya ng try\n",
        "  except: # catch-all does not tell what error is encountered\n",
        "    print('An error occured\\n')\n",
        "\n",
        "print('The reciprocal of', user, 'is ', reciprocal)"
      ],
      "metadata": {
        "colab": {
          "base_uri": "https://localhost:8080/"
        },
        "id": "1xs5EPqaUaIq",
        "outputId": "bcd8ca8b-379a-4a24-c055-c2ded7bd1256"
      },
      "execution_count": null,
      "outputs": [
        {
          "output_type": "stream",
          "name": "stdout",
          "text": [
            "Enter an integer: yes\n",
            "An error occured\n",
            "\n",
            "Enter an integer: 0\n",
            "An error occured\n",
            "\n",
            "Enter an integer: 67\n",
            "The reciprocal of 67 is  0.014925373134328358\n"
          ]
        }
      ]
    },
    {
      "cell_type": "code",
      "source": [
        "while True:\n",
        "  try:\n",
        "    user = int(input('Enter an integer: '))\n",
        "    reciprocal = 1/user\n",
        "    break\n",
        "  except ValueError: # catch all is not used\n",
        "    print('Wrong input\\n')\n",
        "  except ZeroDivisionError:\n",
        "    print('Zero Division error\\n')\n",
        "\n",
        "print('The reciprocal of', user, 'is', reciprocal)"
      ],
      "metadata": {
        "colab": {
          "base_uri": "https://localhost:8080/"
        },
        "id": "7qAv1iX-VBL3",
        "outputId": "92020060-d815-4934-ecd9-1e8ffd1ccc21"
      },
      "execution_count": null,
      "outputs": [
        {
          "output_type": "stream",
          "name": "stdout",
          "text": [
            "Enter an integer: t\n",
            "Wrong input\n",
            "\n",
            "Enter an integer: 0000\n",
            "Zero Division error\n",
            "\n",
            "Enter an integer: 1234\n",
            "The reciprocal of 1234 is  0.0008103727714748784\n"
          ]
        }
      ]
    },
    {
      "cell_type": "code",
      "source": [
        "#grouped exceptions"
      ],
      "metadata": {
        "id": "q-3l8fWuTr5K"
      },
      "execution_count": null,
      "outputs": []
    },
    {
      "cell_type": "markdown",
      "source": [
        "Try-Except-Else\n",
        "\n",
        "* code that runs when all excepts are false, or no errors encountered\n",
        "\n",
        "try:\n",
        "* You do operations here\n",
        "\n",
        "except Exception1:\n",
        "* if there is Exception1, execute this block\n",
        "\n",
        "except Exception2:\n",
        "* if there is Exception2, execute this block\n",
        "\n",
        "else:\n",
        "* if there are no exceptions, execute this block"
      ],
      "metadata": {
        "id": "zuvvKPrHVafT"
      }
    },
    {
      "cell_type": "code",
      "source": [
        "# yung code na may else\n",
        "# inaantok pa aku\n",
        "# 9:42 am, excited na ako matulog ng mahimbing mamaya"
      ],
      "metadata": {
        "id": "hDL0xwCbV_YW"
      },
      "execution_count": null,
      "outputs": []
    },
    {
      "cell_type": "code",
      "source": [
        "number1 = input('Enter numerator: ')\n",
        "number2 = input('Enter denominator: ')\n",
        "\n",
        "try:\n",
        "  number1 = float(number1)\n",
        "  number2 = float(number2)\n",
        "  result = number1/number2\n",
        "\n",
        "except ValueError:\n",
        "  print('You must enter two numbers')\n",
        "\n",
        "except ZeroDivisionError:\n",
        "  print('Attempted to divide by zero')\n",
        "\n",
        "else:\n",
        "  print('{:.3f} / {:.3f} = {:.3f}'.format(number1,number2,result))\n",
        "\n",
        "print('Exit the handled codes')"
      ],
      "metadata": {
        "colab": {
          "base_uri": "https://localhost:8080/"
        },
        "id": "fR95kx_4DUlf",
        "outputId": "ffbdb5fe-24be-4c43-b009-186c8ad31d56"
      },
      "execution_count": null,
      "outputs": [
        {
          "output_type": "stream",
          "name": "stdout",
          "text": [
            "Enter numerator: wow\n",
            "Enter denominator: 4\n",
            "You must enter two numbers\n",
            "Exit the handled codes\n"
          ]
        }
      ]
    },
    {
      "cell_type": "code",
      "source": [
        "number1 = input('Enter numerator: ')\n",
        "number2 = input('Enter denominator: ')\n",
        "\n",
        "try:\n",
        "  number1 = float(number1)\n",
        "  number2 = float(number2)\n",
        "  result = number1/number2\n",
        "\n",
        "except ValueError:\n",
        "  print('You must enter two numbers')\n",
        "\n",
        "except ZeroDivisionError:\n",
        "  print('Attempted to divide by zero')\n",
        "\n",
        "else:\n",
        "  print('{:.3f} / {:.3f} = {:.3f}'.format(number1,number2,result))\n",
        "\n",
        "print('Exit the handled codes')"
      ],
      "metadata": {
        "colab": {
          "base_uri": "https://localhost:8080/"
        },
        "outputId": "6348ade2-de44-4ee4-84ed-b4d2e1cc48bd",
        "id": "SKi3XwNQEQXC"
      },
      "execution_count": null,
      "outputs": [
        {
          "output_type": "stream",
          "name": "stdout",
          "text": [
            "Enter numerator: 4\n",
            "Enter denominator: 0\n",
            "Attempted to divide by zero\n",
            "Exit the handled codes\n"
          ]
        }
      ]
    },
    {
      "cell_type": "code",
      "source": [
        "number1 = input('Enter numerator: ')\n",
        "number2 = input('Enter denominator: ')\n",
        "\n",
        "try:\n",
        "  number1 = float(number1)\n",
        "  number2 = float(number2)\n",
        "  result = number1/number2\n",
        "\n",
        "except ValueError:\n",
        "  print('You must enter two numbers')\n",
        "\n",
        "except ZeroDivisionError:\n",
        "  print('Attempted to divide by zero')\n",
        "\n",
        "else: # pag di natupad yung exceptions, punta dito\n",
        "  print('{:.3f} / {:.3f} = {:.3f}'.format(number1,number2,result))\n",
        "\n",
        "print('Exit the handled codes')"
      ],
      "metadata": {
        "colab": {
          "base_uri": "https://localhost:8080/"
        },
        "outputId": "4b4f6c77-9d44-4f50-dbda-6509d2ab7fe9",
        "id": "TNCgue5nETQ4"
      },
      "execution_count": null,
      "outputs": [
        {
          "output_type": "stream",
          "name": "stdout",
          "text": [
            "Enter numerator: 0\n",
            "Enter denominator: 5\n",
            "0.000 / 5.000 = 0.000\n",
            "Exit the handled codes\n"
          ]
        }
      ]
    },
    {
      "cell_type": "markdown",
      "source": [
        "Although try statement can contain any statements, it is good practice to only put statements that may possibly raise exceptions"
      ],
      "metadata": {
        "id": "2WfrHcXVEhPl"
      }
    },
    {
      "cell_type": "code",
      "source": [
        "while True:\n",
        "  try:\n",
        "    x = 1 # pwede ilabas, di naman to nageerror\n",
        "    y = input('Enter a number: ') # di rin nagerror dito\n",
        "    reciprocal = x/float(y) # dito nageerror\n",
        "\n",
        "  except ValueError: # error kasi di kaya magdivide ng non numbers\n",
        "    print ('You entered a wrong python type\\n')\n",
        "\n",
        "  except ZeroDivisionError: # di pwede zero division\n",
        "    print ('You cannot divide by zero\\n')\n",
        "\n",
        "  else:\n",
        "    print('The reciprocal of', y, 'is', reciprocal)\n",
        "    break\n",
        "\n",
        "print('End')"
      ],
      "metadata": {
        "colab": {
          "base_uri": "https://localhost:8080/"
        },
        "id": "dM4mkVYYEgZC",
        "outputId": "0c78eaf8-56cc-4964-88ce-45fea95bca97"
      },
      "execution_count": null,
      "outputs": [
        {
          "output_type": "stream",
          "name": "stdout",
          "text": [
            "Enter a number: we\n",
            "You entered a wrong python type\n",
            "\n",
            "Enter a number: 0\n",
            "You cannot divide by zero\n",
            "\n",
            "Enter a number: erb\n",
            "You entered a wrong python type\n",
            "\n",
            "Enter a number: 9\n",
            "The reciprocal of 9 is 0.1111111111111111\n",
            "End\n"
          ]
        }
      ]
    },
    {
      "cell_type": "markdown",
      "source": [
        "# Possible errors"
      ],
      "metadata": {
        "id": "g9OzgKj5FBiP"
      }
    },
    {
      "cell_type": "code",
      "source": [
        "while True:\n",
        "  x = 1\n",
        "  y = input('Enter a number: ')\n",
        "\n",
        "  try:\n",
        "    reciprocal = x/float(y)\n",
        "\n",
        "  except ValueError:\n",
        "    print ('You entered a wrong python type\\n')\n",
        "\n",
        "  except ZeroDivisionError:\n",
        "    print ('You cannot divide by zero\\n')\n",
        "\n",
        "  else:\n",
        "    print('The reciprocal of', y, 'is', reciprocal)\n",
        "    break\n",
        "\n",
        "print('End')"
      ],
      "metadata": {
        "colab": {
          "base_uri": "https://localhost:8080/"
        },
        "outputId": "7566eceb-d55a-4c25-d711-5d3360d4ab75",
        "id": "Gcq7dvUjFsuD"
      },
      "execution_count": null,
      "outputs": [
        {
          "output_type": "stream",
          "name": "stdout",
          "text": [
            "Enter a number: we\n",
            "You entered a wrong python type\n",
            "\n",
            "Enter a number: 0\n",
            "You cannot divide by zero\n",
            "\n",
            "Enter a number: erb\n",
            "You entered a wrong python type\n",
            "\n",
            "Enter a number: 9\n",
            "The reciprocal of 9 is 0.1111111111111111\n",
            "End\n"
          ]
        }
      ]
    },
    {
      "cell_type": "markdown",
      "source": [
        "Finally\n",
        "* always executes regardless of whether an execption occurs or not"
      ],
      "metadata": {
        "id": "cnecgYsIXG7X"
      }
    },
    {
      "cell_type": "code",
      "source": [
        "while True:\n",
        "  try:\n",
        "    user = int(input('Enter an integer: '))\n",
        "    reciprocal = 1/user\n",
        "  except: # prints if may error\n",
        "    print('An error has occured\\nPlease try again')\n",
        "  else: # prints if walang error\n",
        "    print('The reciprocal of',user,'is',reciprocal)\n",
        "    break\n",
        "  finally: # prints always\n",
        "    print('This will print no matter what\\n')"
      ],
      "metadata": {
        "colab": {
          "base_uri": "https://localhost:8080/"
        },
        "id": "lvnJa9NOLmBw",
        "outputId": "d2e7ccaf-2047-46ba-929d-25bad12c5a96"
      },
      "execution_count": null,
      "outputs": [
        {
          "output_type": "stream",
          "name": "stdout",
          "text": [
            "Enter an integer: huh\n",
            "An error has occured\n",
            "Please try again\n",
            "This will print no matter what\n",
            "\n",
            "Enter an integer: 0\n",
            "An error has occured\n",
            "Please try again\n",
            "This will print no matter what\n",
            "\n",
            "Enter an integer: 5\n",
            "The reciprocal of 5 is 0.2\n",
            "This will print no matter what\n",
            "\n"
          ]
        }
      ]
    },
    {
      "cell_type": "code",
      "source": [
        "try:\n",
        "  print('Enter try')\n",
        "  print(1/0)\n",
        "except ZeroDivisionError:\n",
        "  print('We cannot divide by zero')\n",
        "  print(non_existent_variable) # exception, pero gagana pa rin finally\n",
        "finally:\n",
        "  print('This will print no matter what') # this still runs kahit may error sa preceding blocks"
      ],
      "metadata": {
        "colab": {
          "base_uri": "https://localhost:8080/",
          "height": 436
        },
        "id": "ae1-1Or4M6rU",
        "outputId": "22c757cc-458f-401c-b77f-d7f3a1e7c7ad"
      },
      "execution_count": null,
      "outputs": [
        {
          "output_type": "stream",
          "name": "stdout",
          "text": [
            "Enter try\n",
            "We cannot divide by zero\n",
            "This will print no matter what\n"
          ]
        },
        {
          "output_type": "error",
          "ename": "NameError",
          "evalue": "name 'non_existent_variable' is not defined",
          "traceback": [
            "\u001b[0;31m---------------------------------------------------------------------------\u001b[0m",
            "\u001b[0;31mZeroDivisionError\u001b[0m                         Traceback (most recent call last)",
            "\u001b[0;32m<ipython-input-3-0086757dc880>\u001b[0m in \u001b[0;36m<cell line: 1>\u001b[0;34m()\u001b[0m\n\u001b[1;32m      2\u001b[0m   \u001b[0mprint\u001b[0m\u001b[0;34m(\u001b[0m\u001b[0;34m'Enter try'\u001b[0m\u001b[0;34m)\u001b[0m\u001b[0;34m\u001b[0m\u001b[0;34m\u001b[0m\u001b[0m\n\u001b[0;32m----> 3\u001b[0;31m   \u001b[0mprint\u001b[0m\u001b[0;34m(\u001b[0m\u001b[0;36m1\u001b[0m\u001b[0;34m/\u001b[0m\u001b[0;36m0\u001b[0m\u001b[0;34m)\u001b[0m\u001b[0;34m\u001b[0m\u001b[0;34m\u001b[0m\u001b[0m\n\u001b[0m\u001b[1;32m      4\u001b[0m \u001b[0;32mexcept\u001b[0m \u001b[0mZeroDivisionError\u001b[0m\u001b[0;34m:\u001b[0m\u001b[0;34m\u001b[0m\u001b[0;34m\u001b[0m\u001b[0m\n",
            "\u001b[0;31mZeroDivisionError\u001b[0m: division by zero",
            "\nDuring handling of the above exception, another exception occurred:\n",
            "\u001b[0;31mNameError\u001b[0m                                 Traceback (most recent call last)",
            "\u001b[0;32m<ipython-input-3-0086757dc880>\u001b[0m in \u001b[0;36m<cell line: 1>\u001b[0;34m()\u001b[0m\n\u001b[1;32m      4\u001b[0m \u001b[0;32mexcept\u001b[0m \u001b[0mZeroDivisionError\u001b[0m\u001b[0;34m:\u001b[0m\u001b[0;34m\u001b[0m\u001b[0;34m\u001b[0m\u001b[0m\n\u001b[1;32m      5\u001b[0m   \u001b[0mprint\u001b[0m\u001b[0;34m(\u001b[0m\u001b[0;34m'We cannot divide by zero'\u001b[0m\u001b[0;34m)\u001b[0m\u001b[0;34m\u001b[0m\u001b[0;34m\u001b[0m\u001b[0m\n\u001b[0;32m----> 6\u001b[0;31m   \u001b[0mprint\u001b[0m\u001b[0;34m(\u001b[0m\u001b[0mnon_existent_variable\u001b[0m\u001b[0;34m)\u001b[0m\u001b[0;34m\u001b[0m\u001b[0;34m\u001b[0m\u001b[0m\n\u001b[0m\u001b[1;32m      7\u001b[0m \u001b[0;32mfinally\u001b[0m\u001b[0;34m:\u001b[0m\u001b[0;34m\u001b[0m\u001b[0;34m\u001b[0m\u001b[0m\n\u001b[1;32m      8\u001b[0m   \u001b[0mprint\u001b[0m\u001b[0;34m(\u001b[0m\u001b[0;34m'This will print no matter what'\u001b[0m\u001b[0;34m)\u001b[0m\u001b[0;34m\u001b[0m\u001b[0;34m\u001b[0m\u001b[0m\n",
            "\u001b[0;31mNameError\u001b[0m: name 'non_existent_variable' is not defined"
          ]
        }
      ]
    },
    {
      "cell_type": "markdown",
      "source": [
        "Raise\n",
        "* can be used without arguments to re-raise whatever exception occured"
      ],
      "metadata": {
        "id": "yUcj9stJNfFy"
      }
    },
    {
      "cell_type": "code",
      "source": [
        "try:\n",
        "  num = 5/0\n",
        "except:\n",
        "  print('Error')\n",
        "  raise"
      ],
      "metadata": {
        "colab": {
          "base_uri": "https://localhost:8080/",
          "height": 228
        },
        "id": "Y2rD6OpyNlf8",
        "outputId": "937ce532-1097-4970-f3ba-a6d92d1a16fc"
      },
      "execution_count": null,
      "outputs": [
        {
          "output_type": "stream",
          "name": "stdout",
          "text": [
            "Error\n"
          ]
        },
        {
          "output_type": "error",
          "ename": "ZeroDivisionError",
          "evalue": "division by zero",
          "traceback": [
            "\u001b[0;31m---------------------------------------------------------------------------\u001b[0m",
            "\u001b[0;31mZeroDivisionError\u001b[0m                         Traceback (most recent call last)",
            "\u001b[0;32m<ipython-input-4-8e98f1cc78cb>\u001b[0m in \u001b[0;36m<cell line: 1>\u001b[0;34m()\u001b[0m\n\u001b[1;32m      1\u001b[0m \u001b[0;32mtry\u001b[0m\u001b[0;34m:\u001b[0m\u001b[0;34m\u001b[0m\u001b[0;34m\u001b[0m\u001b[0m\n\u001b[0;32m----> 2\u001b[0;31m   \u001b[0mnum\u001b[0m \u001b[0;34m=\u001b[0m \u001b[0;36m5\u001b[0m\u001b[0;34m/\u001b[0m\u001b[0;36m0\u001b[0m\u001b[0;34m\u001b[0m\u001b[0;34m\u001b[0m\u001b[0m\n\u001b[0m\u001b[1;32m      3\u001b[0m \u001b[0;32mexcept\u001b[0m\u001b[0;34m:\u001b[0m\u001b[0;34m\u001b[0m\u001b[0;34m\u001b[0m\u001b[0m\n\u001b[1;32m      4\u001b[0m   \u001b[0mprint\u001b[0m\u001b[0;34m(\u001b[0m\u001b[0;34m'Error'\u001b[0m\u001b[0;34m)\u001b[0m\u001b[0;34m\u001b[0m\u001b[0;34m\u001b[0m\u001b[0m\n\u001b[1;32m      5\u001b[0m   \u001b[0;32mraise\u001b[0m\u001b[0;34m\u001b[0m\u001b[0;34m\u001b[0m\u001b[0m\n",
            "\u001b[0;31mZeroDivisionError\u001b[0m: division by zero"
          ]
        }
      ]
    },
    {
      "cell_type": "markdown",
      "source": [
        "I think of raise command when there are exceptions that I personally want to raise but not part of python <- bruh idk what that means"
      ],
      "metadata": {
        "id": "E0yceFuLO4AN"
      }
    },
    {
      "cell_type": "code",
      "source": [
        "import traceback"
      ],
      "metadata": {
        "id": "p7ayI1VkNzps"
      },
      "execution_count": null,
      "outputs": []
    },
    {
      "cell_type": "code",
      "source": [
        "integer_list = []\n",
        "sentinel = 'yes'\n",
        "\n",
        "while sentinel == 'yes':\n",
        "  try:\n",
        "    integer = int(input('Integer? '))\n",
        "    integer_list.append(integer)\n",
        "  except:\n",
        "    traceback.print_exc()\n",
        "    print('An error occured. Please try again\\n')\n",
        "  else:\n",
        "    sentinel = input('Continue adding integers (yes/no)?')\n",
        "\n",
        "print(integer_list)"
      ],
      "metadata": {
        "colab": {
          "base_uri": "https://localhost:8080/"
        },
        "id": "QXnzDEo6N2O4",
        "outputId": "a3b07332-1d14-4ec1-e6f7-074228b03760"
      },
      "execution_count": null,
      "outputs": [
        {
          "name": "stdout",
          "output_type": "stream",
          "text": [
            "Integer? 90\n",
            "Continue adding integers (yes/no)?yes\n",
            "Integer? 70\n",
            "Continue adding integers (yes/no)?yes\n",
            "Integer? what\n"
          ]
        },
        {
          "output_type": "stream",
          "name": "stderr",
          "text": [
            "Traceback (most recent call last):\n",
            "  File \"<ipython-input-6-84ce8b255c50>\", line 6, in <cell line: 4>\n",
            "    integer = int(input('Integer? '))\n",
            "ValueError: invalid literal for int() with base 10: 'what'\n"
          ]
        },
        {
          "output_type": "stream",
          "name": "stdout",
          "text": [
            "An error occured. Please try again\n",
            "\n",
            "Integer? 80\n",
            "Continue adding integers (yes/no)?Yes\n",
            "[90, 70, 80]\n"
          ]
        }
      ]
    },
    {
      "cell_type": "code",
      "source": [
        "integer_list = []\n",
        "sentinel = 'yes'\n",
        "\n",
        "while sentinel == 'yes' or sentinel != 'no':\n",
        "  try:\n",
        "    integer = int(input('Integer? '))\n",
        "    integer_list.append(integer)\n",
        "    sentinel = input('Continue adding integers (yes/no)? ')\n",
        "\n",
        "    if sentinel != 'no':\n",
        "      if sentinel != 'yes':\n",
        "        raise NameError(\"Invalid answer! Choose 'yes' or 'no'\") # input is not yes or no\n",
        "\n",
        "  except NameError: # error is raised above, executes this block if nameerror\n",
        "    traceback.print_exc()\n",
        "    print('An error occured. Please try again, choose \"yes\"\\n')\n",
        "    sentinel = input('Continue adding integers (yes/no)? ')\n",
        "\n",
        "  except: # mali input na integer\n",
        "    traceback.print_exc()\n",
        "    print('An error occured. Please try again\\n')\n",
        "\n",
        "print(integer_list)"
      ],
      "metadata": {
        "colab": {
          "base_uri": "https://localhost:8080/"
        },
        "id": "oQiw8LCKPJUs",
        "outputId": "87188952-436e-42a1-d34e-9bc365a32266"
      },
      "execution_count": null,
      "outputs": [
        {
          "name": "stdout",
          "output_type": "stream",
          "text": [
            "Integer? 0\n",
            "Continue adding integers (yes/no)? yes\n",
            "Integer? 5\n",
            "Continue adding integers (yes/no)? y\n"
          ]
        },
        {
          "output_type": "stream",
          "name": "stderr",
          "text": [
            "Traceback (most recent call last):\n",
            "  File \"<ipython-input-9-c0c54d1248ef>\", line 12, in <cell line: 4>\n",
            "    raise NameError(\"Invalid answer! Choose 'yes' or 'no'\")\n",
            "NameError: Invalid answer! Choose 'yes' or 'no'\n"
          ]
        },
        {
          "name": "stdout",
          "output_type": "stream",
          "text": [
            "An error occured. Please try again, choose \"yes\"\n",
            "\n",
            "Continue adding integers (yes/no)? yes\n",
            "Integer? e\n"
          ]
        },
        {
          "output_type": "stream",
          "name": "stderr",
          "text": [
            "Traceback (most recent call last):\n",
            "  File \"<ipython-input-9-c0c54d1248ef>\", line 6, in <cell line: 4>\n",
            "    integer = int(input('Integer? '))\n",
            "ValueError: invalid literal for int() with base 10: 'e'\n"
          ]
        },
        {
          "name": "stdout",
          "output_type": "stream",
          "text": [
            "An error occured. Please try again\n",
            "\n",
            "Integer? 4\n",
            "Continue adding integers (yes/no)? n\n"
          ]
        },
        {
          "output_type": "stream",
          "name": "stderr",
          "text": [
            "Traceback (most recent call last):\n",
            "  File \"<ipython-input-9-c0c54d1248ef>\", line 12, in <cell line: 4>\n",
            "    raise NameError(\"Invalid answer! Choose 'yes' or 'no'\")\n",
            "NameError: Invalid answer! Choose 'yes' or 'no'\n"
          ]
        },
        {
          "output_type": "stream",
          "name": "stdout",
          "text": [
            "An error occured. Please try again, choose \"yes\"\n",
            "\n",
            "Continue adding integers (yes/no)? no\n",
            "[0, 5, 4]\n"
          ]
        }
      ]
    },
    {
      "cell_type": "code",
      "source": [
        "integer_list = []\n",
        "sentinel = 'yes'\n",
        "\n",
        "while sentinel == 'yes' or sentinel != 'no':\n",
        "  try:\n",
        "    integer = int(input('Integer? '))\n",
        "    integer_list.append(integer)\n",
        "    sentinel = input('Continue adding integers (yes/no)?')\n",
        "\n",
        "    if sentinel != 'no':\n",
        "        if sentinel != 'yes':\n",
        "          raise NameError(\"Invalid answer! Choose 'yes' or 'no'\") # input is not yes or no\n",
        "\n",
        "  except NameError as error:\n",
        "    print('{}'.format(error))\n",
        "    sentinel = input('Continue adding integers (yes/no)?')\n",
        "\n",
        "  except Exception as error: # wrong int input\n",
        "    print('An error occured. {}. Please try again'.format(str(error).capitalize()))\n",
        "\n",
        "print(integer_list)"
      ],
      "metadata": {
        "colab": {
          "base_uri": "https://localhost:8080/"
        },
        "id": "FTEZCEIFQ9gL",
        "outputId": "e75383a3-02fd-445f-beac-de6551f885d4"
      },
      "execution_count": null,
      "outputs": [
        {
          "output_type": "stream",
          "name": "stdout",
          "text": [
            "Integer? e\n",
            "An error occured. Invalid literal for int() with base 10: 'e'. Please try again\n",
            "Integer? 9\n",
            "Continue adding integers (yes/no)?y\n",
            "Invalid answer! Choose 'yes' or 'no'\n",
            "Continue adding integers (yes/no)?yes\n",
            "Integer? 8\n",
            "Continue adding integers (yes/no)?no\n",
            "[9, 8]\n"
          ]
        }
      ]
    },
    {
      "cell_type": "markdown",
      "source": [
        "Assert\n",
        "* sanity-check that you can turn on/off when you are done testing the program\n",
        "* an expression is tested, and if the result comes up false, an exception is raised\n",
        "* like a raise-if statement (raise-if-not)\n",
        "* usually placed at the start of a function to check for valid input, and/or after a function call to check for valid output\n",
        "\n"
      ],
      "metadata": {
        "id": "-Xu6bpW_bBqP"
      }
    },
    {
      "cell_type": "code",
      "source": [
        "def set_bearing(new_bearing):\n",
        "  bearing = new_bearing\n",
        "  assert(0<= bearing <= 90)\n",
        "  return bearing\n",
        "print(set_bearing(95))"
      ],
      "metadata": {
        "colab": {
          "base_uri": "https://localhost:8080/",
          "height": 297
        },
        "id": "m4oUNqAFgtcR",
        "outputId": "1a1ae0b0-ac59-4beb-d7ac-47866830f4b0"
      },
      "execution_count": null,
      "outputs": [
        {
          "output_type": "error",
          "ename": "AssertionError",
          "evalue": "",
          "traceback": [
            "\u001b[0;31m---------------------------------------------------------------------------\u001b[0m",
            "\u001b[0;31mAssertionError\u001b[0m                            Traceback (most recent call last)",
            "\u001b[0;32m<ipython-input-1-ff71131b32c9>\u001b[0m in \u001b[0;36m<cell line: 5>\u001b[0;34m()\u001b[0m\n\u001b[1;32m      3\u001b[0m   \u001b[0;32massert\u001b[0m\u001b[0;34m(\u001b[0m\u001b[0;36m0\u001b[0m\u001b[0;34m<=\u001b[0m \u001b[0mbearing\u001b[0m \u001b[0;34m<=\u001b[0m \u001b[0;36m90\u001b[0m\u001b[0;34m)\u001b[0m\u001b[0;34m\u001b[0m\u001b[0;34m\u001b[0m\u001b[0m\n\u001b[1;32m      4\u001b[0m   \u001b[0;32mreturn\u001b[0m \u001b[0mbearing\u001b[0m\u001b[0;34m\u001b[0m\u001b[0;34m\u001b[0m\u001b[0m\n\u001b[0;32m----> 5\u001b[0;31m \u001b[0mprint\u001b[0m\u001b[0;34m(\u001b[0m\u001b[0mset_bearing\u001b[0m\u001b[0;34m(\u001b[0m\u001b[0;36m95\u001b[0m\u001b[0;34m)\u001b[0m\u001b[0;34m)\u001b[0m\u001b[0;34m\u001b[0m\u001b[0;34m\u001b[0m\u001b[0m\n\u001b[0m",
            "\u001b[0;32m<ipython-input-1-ff71131b32c9>\u001b[0m in \u001b[0;36mset_bearing\u001b[0;34m(new_bearing)\u001b[0m\n\u001b[1;32m      1\u001b[0m \u001b[0;32mdef\u001b[0m \u001b[0mset_bearing\u001b[0m\u001b[0;34m(\u001b[0m\u001b[0mnew_bearing\u001b[0m\u001b[0;34m)\u001b[0m\u001b[0;34m:\u001b[0m\u001b[0;34m\u001b[0m\u001b[0;34m\u001b[0m\u001b[0m\n\u001b[1;32m      2\u001b[0m   \u001b[0mbearing\u001b[0m \u001b[0;34m=\u001b[0m \u001b[0mnew_bearing\u001b[0m\u001b[0;34m\u001b[0m\u001b[0;34m\u001b[0m\u001b[0m\n\u001b[0;32m----> 3\u001b[0;31m   \u001b[0;32massert\u001b[0m\u001b[0;34m(\u001b[0m\u001b[0;36m0\u001b[0m\u001b[0;34m<=\u001b[0m \u001b[0mbearing\u001b[0m \u001b[0;34m<=\u001b[0m \u001b[0;36m90\u001b[0m\u001b[0;34m)\u001b[0m\u001b[0;34m\u001b[0m\u001b[0;34m\u001b[0m\u001b[0m\n\u001b[0m\u001b[1;32m      4\u001b[0m   \u001b[0;32mreturn\u001b[0m \u001b[0mbearing\u001b[0m\u001b[0;34m\u001b[0m\u001b[0;34m\u001b[0m\u001b[0m\n\u001b[1;32m      5\u001b[0m \u001b[0mprint\u001b[0m\u001b[0;34m(\u001b[0m\u001b[0mset_bearing\u001b[0m\u001b[0;34m(\u001b[0m\u001b[0;36m95\u001b[0m\u001b[0;34m)\u001b[0m\u001b[0;34m)\u001b[0m\u001b[0;34m\u001b[0m\u001b[0;34m\u001b[0m\u001b[0m\n",
            "\u001b[0;31mAssertionError\u001b[0m: "
          ]
        }
      ]
    },
    {
      "cell_type": "markdown",
      "source": [
        "The assert can take a second argument that is passed to the AssertionError raised if the assertion fails"
      ],
      "metadata": {
        "id": "ZwJEYfN0XTL6"
      }
    },
    {
      "cell_type": "code",
      "source": [
        "def set_bearing(new_bearing):\n",
        "  bearing = new_bearing\n",
        "  assert(0<= bearing <= 90), \"angle is on another quadrant!\"\n",
        "  return bearing\n",
        "print(set_bearing(95))"
      ],
      "metadata": {
        "colab": {
          "base_uri": "https://localhost:8080/",
          "height": 297
        },
        "id": "-WTi1WohXHJ-",
        "outputId": "567ea8d7-986d-4bd1-8be8-742b9b9393e4"
      },
      "execution_count": null,
      "outputs": [
        {
          "output_type": "error",
          "ename": "AssertionError",
          "evalue": "angle is on another quadrant!",
          "traceback": [
            "\u001b[0;31m---------------------------------------------------------------------------\u001b[0m",
            "\u001b[0;31mAssertionError\u001b[0m                            Traceback (most recent call last)",
            "\u001b[0;32m<ipython-input-1-b62c1215bef8>\u001b[0m in \u001b[0;36m<cell line: 5>\u001b[0;34m()\u001b[0m\n\u001b[1;32m      3\u001b[0m   \u001b[0;32massert\u001b[0m\u001b[0;34m(\u001b[0m\u001b[0;36m0\u001b[0m\u001b[0;34m<=\u001b[0m \u001b[0mbearing\u001b[0m \u001b[0;34m<=\u001b[0m \u001b[0;36m90\u001b[0m\u001b[0;34m)\u001b[0m\u001b[0;34m,\u001b[0m \u001b[0;34m\"angle is on another quadrant!\"\u001b[0m\u001b[0;34m\u001b[0m\u001b[0;34m\u001b[0m\u001b[0m\n\u001b[1;32m      4\u001b[0m   \u001b[0;32mreturn\u001b[0m \u001b[0mbearing\u001b[0m\u001b[0;34m\u001b[0m\u001b[0;34m\u001b[0m\u001b[0m\n\u001b[0;32m----> 5\u001b[0;31m \u001b[0mprint\u001b[0m\u001b[0;34m(\u001b[0m\u001b[0mset_bearing\u001b[0m\u001b[0;34m(\u001b[0m\u001b[0;36m95\u001b[0m\u001b[0;34m)\u001b[0m\u001b[0;34m)\u001b[0m\u001b[0;34m\u001b[0m\u001b[0;34m\u001b[0m\u001b[0m\n\u001b[0m",
            "\u001b[0;32m<ipython-input-1-b62c1215bef8>\u001b[0m in \u001b[0;36mset_bearing\u001b[0;34m(new_bearing)\u001b[0m\n\u001b[1;32m      1\u001b[0m \u001b[0;32mdef\u001b[0m \u001b[0mset_bearing\u001b[0m\u001b[0;34m(\u001b[0m\u001b[0mnew_bearing\u001b[0m\u001b[0;34m)\u001b[0m\u001b[0;34m:\u001b[0m\u001b[0;34m\u001b[0m\u001b[0;34m\u001b[0m\u001b[0m\n\u001b[1;32m      2\u001b[0m   \u001b[0mbearing\u001b[0m \u001b[0;34m=\u001b[0m \u001b[0mnew_bearing\u001b[0m\u001b[0;34m\u001b[0m\u001b[0;34m\u001b[0m\u001b[0m\n\u001b[0;32m----> 3\u001b[0;31m   \u001b[0;32massert\u001b[0m\u001b[0;34m(\u001b[0m\u001b[0;36m0\u001b[0m\u001b[0;34m<=\u001b[0m \u001b[0mbearing\u001b[0m \u001b[0;34m<=\u001b[0m \u001b[0;36m90\u001b[0m\u001b[0;34m)\u001b[0m\u001b[0;34m,\u001b[0m \u001b[0;34m\"angle is on another quadrant!\"\u001b[0m\u001b[0;34m\u001b[0m\u001b[0;34m\u001b[0m\u001b[0m\n\u001b[0m\u001b[1;32m      4\u001b[0m   \u001b[0;32mreturn\u001b[0m \u001b[0mbearing\u001b[0m\u001b[0;34m\u001b[0m\u001b[0;34m\u001b[0m\u001b[0m\n\u001b[1;32m      5\u001b[0m \u001b[0mprint\u001b[0m\u001b[0;34m(\u001b[0m\u001b[0mset_bearing\u001b[0m\u001b[0;34m(\u001b[0m\u001b[0;36m95\u001b[0m\u001b[0;34m)\u001b[0m\u001b[0;34m)\u001b[0m\u001b[0;34m\u001b[0m\u001b[0;34m\u001b[0m\u001b[0m\n",
            "\u001b[0;31mAssertionError\u001b[0m: angle is on another quadrant!"
          ]
        }
      ]
    },
    {
      "cell_type": "code",
      "source": [
        "lst = []\n",
        "user = 'yes'\n",
        "\n",
        "while user == 'yes':\n",
        "  integer = int(input('Integer? '))\n",
        "  lst.append(integer)\n",
        "  user = input('Continue adding integers (yes/no)? ')\n",
        "  assert(user in ['yes','no']), 'Invalid answer! Choose \\'yes\\' or \\'no\\''\n",
        "\n",
        "print(lst)"
      ],
      "metadata": {
        "colab": {
          "base_uri": "https://localhost:8080/",
          "height": 280
        },
        "id": "ujpGNCLEXfco",
        "outputId": "b992e9d6-ff6a-454f-8d56-8102cba58e1e"
      },
      "execution_count": null,
      "outputs": [
        {
          "name": "stdout",
          "output_type": "stream",
          "text": [
            "Integer? 9\n",
            "Continue adding integers (yes/no)? yes\n",
            "Integer? 10\n",
            "Continue adding integers (yes/no)? Y\n"
          ]
        },
        {
          "output_type": "error",
          "ename": "AssertionError",
          "evalue": "Invalid answer! Choose 'yes' or 'no'",
          "traceback": [
            "\u001b[0;31m---------------------------------------------------------------------------\u001b[0m",
            "\u001b[0;31mAssertionError\u001b[0m                            Traceback (most recent call last)",
            "\u001b[0;32m<ipython-input-3-c5253b117765>\u001b[0m in \u001b[0;36m<cell line: 4>\u001b[0;34m()\u001b[0m\n\u001b[1;32m      6\u001b[0m   \u001b[0mlst\u001b[0m\u001b[0;34m.\u001b[0m\u001b[0mappend\u001b[0m\u001b[0;34m(\u001b[0m\u001b[0minteger\u001b[0m\u001b[0;34m)\u001b[0m\u001b[0;34m\u001b[0m\u001b[0;34m\u001b[0m\u001b[0m\n\u001b[1;32m      7\u001b[0m   \u001b[0muser\u001b[0m \u001b[0;34m=\u001b[0m \u001b[0minput\u001b[0m\u001b[0;34m(\u001b[0m\u001b[0;34m'Continue adding integers (yes/no)? '\u001b[0m\u001b[0;34m)\u001b[0m\u001b[0;34m\u001b[0m\u001b[0;34m\u001b[0m\u001b[0m\n\u001b[0;32m----> 8\u001b[0;31m   \u001b[0;32massert\u001b[0m\u001b[0;34m(\u001b[0m\u001b[0muser\u001b[0m \u001b[0;32min\u001b[0m \u001b[0;34m[\u001b[0m\u001b[0;34m'yes'\u001b[0m\u001b[0;34m,\u001b[0m\u001b[0;34m'no'\u001b[0m\u001b[0;34m]\u001b[0m\u001b[0;34m)\u001b[0m\u001b[0;34m,\u001b[0m \u001b[0;34m'Invalid answer! Choose \\'yes\\' or \\'no\\''\u001b[0m\u001b[0;34m\u001b[0m\u001b[0;34m\u001b[0m\u001b[0m\n\u001b[0m\u001b[1;32m      9\u001b[0m \u001b[0;34m\u001b[0m\u001b[0m\n\u001b[1;32m     10\u001b[0m \u001b[0mprint\u001b[0m\u001b[0;34m(\u001b[0m\u001b[0mlst\u001b[0m\u001b[0;34m)\u001b[0m\u001b[0;34m\u001b[0m\u001b[0;34m\u001b[0m\u001b[0m\n",
            "\u001b[0;31mAssertionError\u001b[0m: Invalid answer! Choose 'yes' or 'no'"
          ]
        }
      ]
    },
    {
      "cell_type": "markdown",
      "source": [
        "BRUTE FORCE"
      ],
      "metadata": {
        "id": "xAASSxxYYyLH"
      }
    },
    {
      "cell_type": "code",
      "source": [
        "lst = []\n",
        "user = 'yes'\n",
        "\n",
        "while user == 'yes':\n",
        "  integer = int(input('Integer? '))\n",
        "  lst.append(integer)\n",
        "  user = input('Continue adding integers (yes/no)? ')\n",
        "  while user not in ['yes','no']:\n",
        "    user = input('Continue adding integers (yes/no)? ')\n",
        "\n",
        "print(lst)"
      ],
      "metadata": {
        "colab": {
          "base_uri": "https://localhost:8080/"
        },
        "id": "R10C8opPY0Sv",
        "outputId": "3c13f8e3-aaf2-4557-b8db-7440090f4a41"
      },
      "execution_count": null,
      "outputs": [
        {
          "output_type": "stream",
          "name": "stdout",
          "text": [
            "Integer? 9\n",
            "Continue adding integers (yes/no)? 10\n",
            "Continue adding integers (yes/no)? 7\n",
            "Continue adding integers (yes/no)? y\n",
            "Continue adding integers (yes/no)? yes\n",
            "Integer? 10\n",
            "Continue adding integers (yes/no)? no\n",
            "[9, 10]\n"
          ]
        }
      ]
    },
    {
      "cell_type": "markdown",
      "source": [
        "GOOD PRACTICE?"
      ],
      "metadata": {
        "id": "VwU65P7OZxyg"
      }
    },
    {
      "cell_type": "code",
      "source": [
        "lst = []\n",
        "user = 'yes'\n",
        "\n",
        "while user == 'yes':\n",
        "  integer = int(input('Integer? '))\n",
        "  lst.append(integer)\n",
        "  user = input('Continue adding integers (yes/no)? ')\n",
        "  try:\n",
        "    assert(user in ['yes','no']), \"Invalid answer! Choose \\'yes\\' or \\'no\\'\"\n",
        "  except:\n",
        "    print('Invalid answer! Choose \\'yes\\' or \\'no\\'')\n",
        "    while user not in ['yes','no']:\n",
        "      user = input('Continue adding integers (yes/no)? ')\n",
        "\n",
        "  else:\n",
        "      print(lst)"
      ],
      "metadata": {
        "colab": {
          "base_uri": "https://localhost:8080/"
        },
        "id": "_DLKJRA_Ztvv",
        "outputId": "25cca366-9681-4a0d-fd8f-292ae3ceb7fb"
      },
      "execution_count": null,
      "outputs": [
        {
          "output_type": "stream",
          "name": "stdout",
          "text": [
            "Integer? 9\n",
            "Continue adding integers (yes/no)? y\n",
            "Invalid answer! Choose 'yes' or 'no'\n",
            "Continue adding integers (yes/no)? yes\n",
            "Integer? 10\n",
            "Continue adding integers (yes/no)? no\n",
            "[9, 10]\n"
          ]
        }
      ]
    },
    {
      "cell_type": "markdown",
      "source": [
        "🍄"
      ],
      "metadata": {
        "id": "6dEmSy87dPtJ"
      }
    },
    {
      "cell_type": "markdown",
      "source": [
        "# Files yes\n",
        "* variables, sequences and mappings - temporary storage\n",
        "* used for long term retention of large amounts of data, even after the data terminates\n",
        "* file is a named locayion on disk to store related information\n",
        "* used to permanently store data in a non-volatile memory (like hard disk)\n",
        "\n",
        "Data Hierarchy\n",
        "* bit (1)\n",
        "* Byte (01001010)\n",
        "* Field (J u d y)\n",
        "* Record (Judy | Green)\n",
        "* File (row 1 - Tom | Blue, row 2 - Judy | Green)\n",
        "\n",
        "Meanings\n",
        "* Field (Column/Elements) - collection of characters represented as words\n",
        "* Record (Row) - collection of fields, represented as tuple, dictionary, instance of a class\n",
        "* File (Table) - collection of records, implemented as sequential access or random access\n",
        "* Database (Folder) - collection of files, handled by DMBS software\n",
        "\n",
        "File handling in Python\n",
        "* most basic is .txt file\n",
        "* we want to read from or write to a file\n",
        "* open the file first and closed when done\n",
        "1. open a file\n",
        "2. read, write, or append (perform operation)\n",
        "3. close the file\n",
        "* unlike usual data hierarchy, python imposes no structure to the file onject\n",
        "* the programmer creates the structure by the program\n",
        "\n",
        "Opening Files\n",
        "* before a file can be edited, it must be opened using **open function**\n",
        "* open - returns a file object, also called a handle, which is used  to read or modify the file accordingly\n",
        "\n",
        "file_obj = open('sample-file.txt')\n",
        "\n",
        "*# opens sample-file if it is in the same directory\n",
        "\n",
        "Open Argument\n",
        "* path of the file\n",
        "* file open mode\n",
        "* buffering mode\n",
        "* if file is in same directory as program, only specify its name\n",
        "\n",
        "File open Modes\n",
        "* 'a' - writes output to the end of the file; if file indicated does not exist, it is created\n",
        "* 'a+' - opens a file; writes output to the end of the file; if file indicated does not exist, it is created\n",
        "* 'r' - opens a file for input; if file does not exist, an IOerror is raised\n",
        "* 'r+' - opens a file for input and output; if file does not exist, an IOerror is raised\n",
        "* 'w' - creates/opens a file for output; if it exists, it is truncated; if it does not exist, one is created\n",
        "* 'w+' - opens a file for input and output; if it exists, it is truncated; if it does not exist, one is created"
      ],
      "metadata": {
        "id": "crEXh91Nc0Nj"
      }
    },
    {
      "cell_type": "markdown",
      "source": [
        "Closing a file\n",
        "\n",
        "file_obj = open('sample-file.txt','r')\n",
        "\n",
        "file_obj.close()\n",
        "* once a file has been opened, you should close it\n",
        "* done with close method\n",
        "\n",
        "Example:\n",
        "\n",
        "try:\n",
        "* file_obj = open('data.txt')\n",
        "\n",
        "finally:\n",
        "* file_obj.close()\n",
        "\n",
        "* good practice to make sure that files are always closed after they have been used\n",
        "* use try and finally\n",
        "\n",
        "Opening and Closing a file: with\n",
        "\n",
        "with open('data.txt') as file_obj:\n",
        "* (operations you want to do)\n",
        "\n",
        "* ensures that the file is closed when the block inside 'with' is exited\n",
        "* creates temporary variable (file_obj), which is only accesible in the indented block of the with statement"
      ],
      "metadata": {
        "id": "248GKoZB5dMg"
      }
    },
    {
      "cell_type": "code",
      "source": [
        "'''\n",
        "This\n",
        "is\n",
        "a sample'''\n",
        "file = open('sample file.txt', 'r')\n"
      ],
      "metadata": {
        "id": "SaOSEtvV8g3s"
      },
      "execution_count": null,
      "outputs": []
    },
    {
      "cell_type": "code",
      "source": [
        "file.read(4) #reads 4 characters, t h i s"
      ],
      "metadata": {
        "colab": {
          "base_uri": "https://localhost:8080/",
          "height": 36
        },
        "id": "P5Bp2hja89CE",
        "outputId": "97a06eb0-469d-4080-d812-762194f918a1"
      },
      "execution_count": null,
      "outputs": [
        {
          "output_type": "execute_result",
          "data": {
            "text/plain": [
              "'This'"
            ],
            "application/vnd.google.colaboratory.intrinsic+json": {
              "type": "string"
            }
          },
          "metadata": {},
          "execution_count": 32
        }
      ]
    },
    {
      "cell_type": "code",
      "source": [
        "file.read(5)# reads the next 5 chars, /n i s /n a"
      ],
      "metadata": {
        "colab": {
          "base_uri": "https://localhost:8080/",
          "height": 36
        },
        "id": "rJPIeSnC9ZYS",
        "outputId": "f17ac219-bb8d-40fc-9557-24471114a781"
      },
      "execution_count": null,
      "outputs": [
        {
          "output_type": "execute_result",
          "data": {
            "text/plain": [
              "'\\nis\\na'"
            ],
            "application/vnd.google.colaboratory.intrinsic+json": {
              "type": "string"
            }
          },
          "metadata": {},
          "execution_count": 33
        }
      ]
    },
    {
      "cell_type": "code",
      "source": [
        "file.read(7) #reads next 7, space s a m p l e"
      ],
      "metadata": {
        "colab": {
          "base_uri": "https://localhost:8080/",
          "height": 36
        },
        "id": "eONgDdId9cQL",
        "outputId": "5e1c4ed8-78e4-4a6e-8e1e-30c734cd44f9"
      },
      "execution_count": null,
      "outputs": [
        {
          "output_type": "execute_result",
          "data": {
            "text/plain": [
              "' sample'"
            ],
            "application/vnd.google.colaboratory.intrinsic+json": {
              "type": "string"
            }
          },
          "metadata": {},
          "execution_count": 34
        }
      ]
    },
    {
      "cell_type": "code",
      "source": [
        "file.read(10) # none remaining"
      ],
      "metadata": {
        "colab": {
          "base_uri": "https://localhost:8080/",
          "height": 36
        },
        "id": "SejzTsuE9ePV",
        "outputId": "434098f6-8f52-46e3-adcd-9e901f2b9c56"
      },
      "execution_count": null,
      "outputs": [
        {
          "output_type": "execute_result",
          "data": {
            "text/plain": [
              "''"
            ],
            "application/vnd.google.colaboratory.intrinsic+json": {
              "type": "string"
            }
          },
          "metadata": {},
          "execution_count": 35
        }
      ]
    },
    {
      "cell_type": "code",
      "source": [
        "file.close() # make sure to close file"
      ],
      "metadata": {
        "id": "zolNFnG3ARQJ"
      },
      "execution_count": null,
      "outputs": []
    },
    {
      "cell_type": "markdown",
      "source": [
        "^^^^\n",
        "* We can use read(size) method to read in size(number) of data\n",
        "* if size parameter is not specified, it reads and returns up to the end of the file"
      ],
      "metadata": {
        "id": "tYEOGPALACAY"
      }
    },
    {
      "cell_type": "markdown",
      "source": [
        "Reading a file: using 'for' statement"
      ],
      "metadata": {
        "id": "WoHurY2GBsJ3"
      }
    },
    {
      "cell_type": "code",
      "source": [
        "'''\n",
        "This\n",
        "is\n",
        "a sample\n",
        "'''\n",
        "file = open('sample file.txt', 'r')"
      ],
      "metadata": {
        "id": "A246WCxEBqwf"
      },
      "execution_count": null,
      "outputs": []
    },
    {
      "cell_type": "code",
      "source": [
        "for i in file:\n",
        "  print(i)"
      ],
      "metadata": {
        "colab": {
          "base_uri": "https://localhost:8080/"
        },
        "id": "8WAa1IMtB4S0",
        "outputId": "508dda5d-91c0-4698-e5c1-dc19c3c02957"
      },
      "execution_count": null,
      "outputs": [
        {
          "output_type": "stream",
          "name": "stdout",
          "text": [
            "This\n",
            "\n",
            "is\n",
            "\n",
            "a sample\n"
          ]
        }
      ]
    },
    {
      "cell_type": "code",
      "source": [
        "file.close()"
      ],
      "metadata": {
        "id": "EsV53ka9EsZY"
      },
      "execution_count": null,
      "outputs": []
    },
    {
      "cell_type": "markdown",
      "source": [
        "Reading a file"
      ],
      "metadata": {
        "id": "AREZkchLEyN9"
      }
    },
    {
      "cell_type": "code",
      "source": [
        "'''\n",
        "This\n",
        "is\n",
        "a sample'''\n",
        "file = open('sample file.txt')"
      ],
      "metadata": {
        "id": "N_fYF8mQEz8M"
      },
      "execution_count": null,
      "outputs": []
    },
    {
      "cell_type": "code",
      "source": [
        "file.readline()"
      ],
      "metadata": {
        "colab": {
          "base_uri": "https://localhost:8080/",
          "height": 36
        },
        "id": "MeongdXtE6-2",
        "outputId": "93517680-89ff-4bfc-9fb3-8c39d642f93e"
      },
      "execution_count": null,
      "outputs": [
        {
          "output_type": "execute_result",
          "data": {
            "text/plain": [
              "'This\\n'"
            ],
            "application/vnd.google.colaboratory.intrinsic+json": {
              "type": "string"
            }
          },
          "metadata": {},
          "execution_count": 41
        }
      ]
    },
    {
      "cell_type": "code",
      "source": [
        "file.read()"
      ],
      "metadata": {
        "colab": {
          "base_uri": "https://localhost:8080/",
          "height": 36
        },
        "id": "Uwgb4z8SE9XB",
        "outputId": "1447f64f-e013-416d-8660-33f244519d82"
      },
      "execution_count": null,
      "outputs": [
        {
          "output_type": "execute_result",
          "data": {
            "text/plain": [
              "'is\\na sample'"
            ],
            "application/vnd.google.colaboratory.intrinsic+json": {
              "type": "string"
            }
          },
          "metadata": {},
          "execution_count": 42
        }
      ]
    },
    {
      "cell_type": "code",
      "source": [
        "file.close()\n",
        "file = open('sample file.txt')\n",
        "file.readline() # This\\n\n",
        "file.readlines() # creates a list"
      ],
      "metadata": {
        "colab": {
          "base_uri": "https://localhost:8080/"
        },
        "id": "YUPVgZSXFAix",
        "outputId": "9aac3c78-3e12-4015-a151-89d4a9ad9a2e"
      },
      "execution_count": null,
      "outputs": [
        {
          "output_type": "execute_result",
          "data": {
            "text/plain": [
              "['is\\n', 'a sample']"
            ]
          },
          "metadata": {},
          "execution_count": 43
        }
      ]
    },
    {
      "cell_type": "code",
      "source": [
        "file.close()"
      ],
      "metadata": {
        "id": "gQN6Cgm3FJxz"
      },
      "execution_count": null,
      "outputs": []
    },
    {
      "cell_type": "markdown",
      "source": [
        "Writing a file"
      ],
      "metadata": {
        "id": "0KmH4iPcFZ6N"
      }
    },
    {
      "cell_type": "code",
      "source": [
        "sample_write = open('not-yet-created.txt','w')"
      ],
      "metadata": {
        "id": "aUeRCeynFb-t"
      },
      "execution_count": null,
      "outputs": []
    },
    {
      "cell_type": "code",
      "source": [
        "sample_write.write('dami ng smoke\\nnag load\\nnag toke\\nna choke\\ntapos nag elevate')"
      ],
      "metadata": {
        "colab": {
          "base_uri": "https://localhost:8080/"
        },
        "id": "Vo2rYEIrFjJl",
        "outputId": "059f2326-764e-4113-99cc-b8ee8d5ed036"
      },
      "execution_count": null,
      "outputs": [
        {
          "output_type": "execute_result",
          "data": {
            "text/plain": [
              "58"
            ]
          },
          "metadata": {},
          "execution_count": 49
        }
      ]
    },
    {
      "cell_type": "code",
      "source": [
        "sample_write.close()"
      ],
      "metadata": {
        "id": "esvh1AxXF1Lh"
      },
      "execution_count": null,
      "outputs": []
    },
    {
      "cell_type": "code",
      "source": [
        "sample_write1 = open('not-yet-created-1.txt','w')\n",
        "sample_write1.write('ayyyy gagi')"
      ],
      "metadata": {
        "colab": {
          "base_uri": "https://localhost:8080/"
        },
        "id": "L6uIR2bQGMYC",
        "outputId": "ad0e2c80-796b-4ee2-d61f-9d2306ccb17c"
      },
      "execution_count": null,
      "outputs": [
        {
          "output_type": "execute_result",
          "data": {
            "text/plain": [
              "10"
            ]
          },
          "metadata": {},
          "execution_count": 52
        }
      ]
    },
    {
      "cell_type": "markdown",
      "source": [
        "^^^^^\n",
        "\n",
        "until the file is closed, the written data will not appear"
      ],
      "metadata": {
        "id": "1akzdDgeGmVS"
      }
    },
    {
      "cell_type": "markdown",
      "source": [
        "Writing a file"
      ],
      "metadata": {
        "id": "OAFgVg2YG-G1"
      }
    },
    {
      "cell_type": "code",
      "source": [
        "with open('sample-text.txt','w') as filesample:\n",
        "  filesample.write('graphic design is my passion')"
      ],
      "metadata": {
        "id": "T5MFQD_uG_YX"
      },
      "execution_count": null,
      "outputs": []
    },
    {
      "cell_type": "markdown",
      "source": [
        "Other file methods\n",
        "\n",
        "read(size)\n",
        "* reads data from the file\n",
        "* if size is not specified, method reads all data to the end of the file\n",
        "* if argument size is specified, the method reads at most size bytes from the file"
      ],
      "metadata": {
        "id": "cJ3fEtfxHWbj"
      }
    },
    {
      "cell_type": "code",
      "source": [
        "fileother = open('sample-other.txt','w+')"
      ],
      "metadata": {
        "id": "-4mGo_JUHWAl"
      },
      "execution_count": null,
      "outputs": []
    },
    {
      "cell_type": "code",
      "source": [
        "fileother.write('Sorry na talaga\\nKung ako\\'y medyo tanga')"
      ],
      "metadata": {
        "colab": {
          "base_uri": "https://localhost:8080/"
        },
        "id": "vi0m2mdLJd9a",
        "outputId": "6261c7ef-9d2b-4390-fb25-c6a6d65a6e27"
      },
      "execution_count": null,
      "outputs": [
        {
          "output_type": "execute_result",
          "data": {
            "text/plain": [
              "38"
            ]
          },
          "metadata": {},
          "execution_count": 104
        }
      ]
    },
    {
      "cell_type": "code",
      "source": [
        "fileother.read(8)"
      ],
      "metadata": {
        "colab": {
          "base_uri": "https://localhost:8080/",
          "height": 36
        },
        "id": "o4AyBS-vJ6UT",
        "outputId": "42caff2c-cfce-482b-a836-881f5755385d"
      },
      "execution_count": null,
      "outputs": [
        {
          "output_type": "execute_result",
          "data": {
            "text/plain": [
              "'Sorry na'"
            ],
            "application/vnd.google.colaboratory.intrinsic+json": {
              "type": "string"
            }
          },
          "metadata": {},
          "execution_count": 105
        }
      ]
    },
    {
      "cell_type": "markdown",
      "source": [
        "readline(size)\n",
        "* reads one line from the file\n",
        "* if file size is not specified, the method reads to the end of the line\n",
        "* if size is specified, the method reads at most size bytes from the line"
      ],
      "metadata": {
        "id": "wh3lQ-D2J-Uj"
      }
    },
    {
      "cell_type": "code",
      "source": [
        "fileother.readline() # sorry na talaga dapat, pero na print na yung sorry na"
      ],
      "metadata": {
        "colab": {
          "base_uri": "https://localhost:8080/",
          "height": 36
        },
        "id": "xGXUaAPZKNJn",
        "outputId": "fed8c9ca-e2e1-4bbe-ae04-ea061309278f"
      },
      "execution_count": null,
      "outputs": [
        {
          "output_type": "execute_result",
          "data": {
            "text/plain": [
              "' talaga\\n'"
            ],
            "application/vnd.google.colaboratory.intrinsic+json": {
              "type": "string"
            }
          },
          "metadata": {},
          "execution_count": 106
        }
      ]
    },
    {
      "cell_type": "markdown",
      "source": [
        "readlines(size)\n",
        "* read lines from the file and returns the lines in a list\n",
        "* if size is not specified, the method reads to the end of the file\n",
        "* if size is specified, the method reads at most size bytes"
      ],
      "metadata": {
        "id": "1sylNfiWKWSf"
      }
    },
    {
      "cell_type": "code",
      "source": [
        "fileother.readlines()"
      ],
      "metadata": {
        "colab": {
          "base_uri": "https://localhost:8080/"
        },
        "id": "qm0XjwmaKmsj",
        "outputId": "e3a1b06d-7291-4be6-8002-33afbdac54d2"
      },
      "execution_count": null,
      "outputs": [
        {
          "output_type": "execute_result",
          "data": {
            "text/plain": [
              "[\"Kung ako'y medyo tanga\"]"
            ]
          },
          "metadata": {},
          "execution_count": 107
        }
      ]
    },
    {
      "cell_type": "code",
      "source": [
        "fileother.close()"
      ],
      "metadata": {
        "id": "vw2f8z0aKvZl"
      },
      "execution_count": null,
      "outputs": []
    },
    {
      "cell_type": "markdown",
      "source": [
        "seek(offset, location)\n",
        "* moves the file position offset bytes\n",
        "* if location is not specified, the file position moves offset bytes from the beginning of the file\n",
        "* if location is specified, the file moves offset bytes from location"
      ],
      "metadata": {
        "id": "Hz_dCTyhLdpO"
      }
    },
    {
      "cell_type": "code",
      "source": [
        "fileseek = open('sample-seek.txt','w+')"
      ],
      "metadata": {
        "id": "goFLrY0HL0lf"
      },
      "execution_count": null,
      "outputs": []
    },
    {
      "cell_type": "code",
      "source": [
        "fileseek.write('Sorry bro, ganito lang ako')"
      ],
      "metadata": {
        "colab": {
          "base_uri": "https://localhost:8080/"
        },
        "id": "VJWg2GtoMiGu",
        "outputId": "68e0dc34-5220-4eff-c501-fdd76b78e7d5"
      },
      "execution_count": null,
      "outputs": [
        {
          "output_type": "execute_result",
          "data": {
            "text/plain": [
              "26"
            ]
          },
          "metadata": {},
          "execution_count": 136
        }
      ]
    },
    {
      "cell_type": "code",
      "source": [
        "fileseek.seek(6)"
      ],
      "metadata": {
        "colab": {
          "base_uri": "https://localhost:8080/"
        },
        "id": "_0zwR9NYL8OK",
        "outputId": "130d2121-ac26-494c-92ed-de7b953fbf0c"
      },
      "execution_count": null,
      "outputs": [
        {
          "output_type": "execute_result",
          "data": {
            "text/plain": [
              "6"
            ]
          },
          "metadata": {},
          "execution_count": 137
        }
      ]
    },
    {
      "cell_type": "code",
      "source": [
        "fileseek.readline()"
      ],
      "metadata": {
        "colab": {
          "base_uri": "https://localhost:8080/",
          "height": 36
        },
        "id": "jBMB-pQSMSts",
        "outputId": "b383c406-ab3a-48fe-bf77-4af875ff80e0"
      },
      "execution_count": null,
      "outputs": [
        {
          "output_type": "execute_result",
          "data": {
            "text/plain": [
              "'bro, ganito lang ako'"
            ],
            "application/vnd.google.colaboratory.intrinsic+json": {
              "type": "string"
            }
          },
          "metadata": {},
          "execution_count": 138
        }
      ]
    },
    {
      "cell_type": "code",
      "source": [
        "fileseek.close()"
      ],
      "metadata": {
        "id": "Hji4GW9qMYXK"
      },
      "execution_count": null,
      "outputs": []
    },
    {
      "cell_type": "markdown",
      "source": [
        "tell()\n",
        "* returns the file's current location\n"
      ],
      "metadata": {
        "id": "NePx838QNIPz"
      }
    },
    {
      "cell_type": "code",
      "source": [
        "filetell = open('sample-seek.txt')\n",
        "filetell.tell()"
      ],
      "metadata": {
        "colab": {
          "base_uri": "https://localhost:8080/"
        },
        "id": "SXOxJ0e-NN8n",
        "outputId": "f8da9e1b-8969-47dd-fa3c-ee243754f438"
      },
      "execution_count": null,
      "outputs": [
        {
          "output_type": "execute_result",
          "data": {
            "text/plain": [
              "0"
            ]
          },
          "metadata": {},
          "execution_count": 141
        }
      ]
    },
    {
      "cell_type": "code",
      "source": [
        "filetell.seek(5)\n",
        "filetell.tell()"
      ],
      "metadata": {
        "colab": {
          "base_uri": "https://localhost:8080/"
        },
        "id": "kJVqyce1NhJw",
        "outputId": "c4930d5d-1958-4769-e5c9-272b5f3b188e"
      },
      "execution_count": null,
      "outputs": [
        {
          "output_type": "execute_result",
          "data": {
            "text/plain": [
              "5"
            ]
          },
          "metadata": {},
          "execution_count": 142
        }
      ]
    },
    {
      "cell_type": "code",
      "source": [
        "filetell.close()"
      ],
      "metadata": {
        "id": "qg8NwhQ1NlPE"
      },
      "execution_count": null,
      "outputs": []
    },
    {
      "cell_type": "markdown",
      "source": [
        "write('output')\n",
        "* writes string output"
      ],
      "metadata": {
        "id": "G7BBgXlYNoNe"
      }
    },
    {
      "cell_type": "code",
      "source": [
        "writesample = open('write-sample.txt','w+')\n",
        "writesample.write('ang init')\n",
        "writesample.close()"
      ],
      "metadata": {
        "id": "5Tqqlex-Ns1M"
      },
      "execution_count": null,
      "outputs": []
    },
    {
      "cell_type": "code",
      "source": [
        "writesample = open('write-sample.txt','r')\n",
        "writesample.read()"
      ],
      "metadata": {
        "colab": {
          "base_uri": "https://localhost:8080/",
          "height": 36
        },
        "id": "oCVxdaP2QNqP",
        "outputId": "492b8b45-1571-48c8-a752-205bb8f70071"
      },
      "execution_count": null,
      "outputs": [
        {
          "output_type": "execute_result",
          "data": {
            "text/plain": [
              "'ang init'"
            ],
            "application/vnd.google.colaboratory.intrinsic+json": {
              "type": "string"
            }
          },
          "metadata": {},
          "execution_count": 181
        }
      ]
    },
    {
      "cell_type": "code",
      "source": [
        "writesample.close()"
      ],
      "metadata": {
        "id": "8WliO2RcQUd2"
      },
      "execution_count": null,
      "outputs": []
    },
    {
      "cell_type": "markdown",
      "source": [
        "writelines(outputList)\n",
        "* writes each string in outputList to the file"
      ],
      "metadata": {
        "id": "tSchPkyMOJce"
      }
    },
    {
      "cell_type": "code",
      "source": [
        "filewritelines = open('write-lines.txt','w+')\n",
        "filewritelines.writelines(['Puno ang langit ng bituin,','at kay lamig pa ng hangin'])"
      ],
      "metadata": {
        "id": "FLcxkdRMOfCB"
      },
      "execution_count": null,
      "outputs": []
    },
    {
      "cell_type": "code",
      "source": [
        "filewritelines.close()"
      ],
      "metadata": {
        "id": "XAlGq0yTPIbQ"
      },
      "execution_count": null,
      "outputs": []
    },
    {
      "cell_type": "code",
      "source": [
        "filewritelines = open('write-lines.txt','r')\n",
        "print(filewritelines.read())"
      ],
      "metadata": {
        "colab": {
          "base_uri": "https://localhost:8080/"
        },
        "id": "Jpy1xtKlO65Y",
        "outputId": "80054b5a-3ccf-46ab-f9f4-4b12b43dcd27"
      },
      "execution_count": null,
      "outputs": [
        {
          "output_type": "stream",
          "name": "stdout",
          "text": [
            "Puno ang langit ng bituin,at kay lamig pa ng hangin\n"
          ]
        }
      ]
    },
    {
      "cell_type": "markdown",
      "source": [
        "# Other Helpful File Handling Concepts\n",
        "\n",
        "Directory\n",
        "* if there are large number of files in python, we can place related files in directories to make things more manageable\n",
        "* python has the os module, which provides us with many useful methods to work with directories (and files as well)\n",
        "\n",
        "OS Module\n",
        "* we can get present working directory using the getcw() method\n",
        "* returns the current working directory in the form of a string"
      ],
      "metadata": {
        "id": "jwAc-iSeQbAA"
      }
    },
    {
      "cell_type": "code",
      "source": [
        "import os\n",
        "path = os.getcwd()"
      ],
      "metadata": {
        "id": "kzXNEQsTTzUM"
      },
      "execution_count": null,
      "outputs": []
    },
    {
      "cell_type": "code",
      "source": [
        "path"
      ],
      "metadata": {
        "colab": {
          "base_uri": "https://localhost:8080/",
          "height": 36
        },
        "id": "_2GvZYDRT3c5",
        "outputId": "77304ce5-c6c5-4f42-b89b-9766679ef130"
      },
      "execution_count": null,
      "outputs": [
        {
          "output_type": "execute_result",
          "data": {
            "text/plain": [
              "'/content'"
            ],
            "application/vnd.google.colaboratory.intrinsic+json": {
              "type": "string"
            }
          },
          "metadata": {},
          "execution_count": 184
        }
      ]
    },
    {
      "cell_type": "markdown",
      "source": [
        "# Pandas\n",
        "* if a fast, powerful, flexible and easy to use open source data analysis and manipulation tool, built on top of the Python programming language\n",
        "\n",
        "Pandas for file handling\n",
        "* usually reads CSV files\n",
        "\n",
        "import pandas\n",
        "\n",
        "zoo = pandas.read_csv('zoo.csv')\n",
        "* #zoo is a pandas dataframe data type"
      ],
      "metadata": {
        "id": "xF_OOolPUlQ1"
      }
    },
    {
      "cell_type": "markdown",
      "source": [
        "# 7: Visualization Programming"
      ],
      "metadata": {
        "id": "erCVmx3br4dR"
      }
    }
  ]
}