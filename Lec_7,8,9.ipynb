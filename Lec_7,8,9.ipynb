{
  "nbformat": 4,
  "nbformat_minor": 0,
  "metadata": {
    "colab": {
      "provenance": [],
      "authorship_tag": "ABX9TyMR1OWWTDCrhGwRukb2CM9w",
      "include_colab_link": true
    },
    "kernelspec": {
      "name": "python3",
      "display_name": "Python 3"
    },
    "language_info": {
      "name": "python"
    }
  },
  "cells": [
    {
      "cell_type": "markdown",
      "metadata": {
        "id": "view-in-github",
        "colab_type": "text"
      },
      "source": [
        "<a href=\"https://colab.research.google.com/github/mlgancena/ge120/blob/main/Lec_7%2C8%2C9.ipynb\" target=\"_parent\"><img src=\"https://colab.research.google.com/assets/colab-badge.svg\" alt=\"Open In Colab\"/></a>"
      ]
    },
    {
      "cell_type": "code",
      "source": [
        "# lambda\n",
        "a = 4\n",
        "b = 9\n",
        "example = lambda a,b: a*b-a\n",
        "print(example(a,b))"
      ],
      "metadata": {
        "colab": {
          "base_uri": "https://localhost:8080/"
        },
        "id": "FQ0U5Jb1CGy8",
        "outputId": "cc61e44d-472d-4b98-a63f-c4161e700caa"
      },
      "execution_count": null,
      "outputs": [
        {
          "output_type": "stream",
          "name": "stdout",
          "text": [
            "32\n"
          ]
        }
      ]
    },
    {
      "cell_type": "markdown",
      "source": [
        "# Visualization\n",
        "1. Data Visualization - show data in a graphical format to reveal patterns, trends and insights that may not be apparent from raw data; graph, histrograms, scatter plots, heatmaps\n",
        "2. Algorithm Visualization - illustrate behavior and execution flow of algorithm; help understand how algorithms work, track their progress, and identify potential optemizations for ineffeciencies\n",
        "3. Debugging and Profiling - visualizing program execution, meomory usage or other performance metrics to identify bugs or areas for optimization\n",
        "4. User Interface Design - creating mockups, wireframes or prototypes of user interfaces to visualize the layout, design elements and interactions of software applications\n",
        "5. Educational purposes - using visualizations to teach programming concepts, alhorithms, or data structures\n",
        "\n",
        "Data Visualization\n",
        "* discipline of trying to understand data by placing it in a visual context so that patterns, trends and correlations that might not be otherwise be detected can be exposed\n",
        "\n",
        "Anscombe's Quartet\n",
        "* consists of 4 data sets with almost equal dexcriptive statistics: means, variances and correlations\n",
        "* but, visually, 4 different plots can be created\n",
        "\n",
        "Datasaurus Dozen\n",
        "* 'never trust summary statistics alone, always visualize your data'\n",
        "* inspired by quartet and datasaurus data\n",
        "\n",
        "Visualization Context\n",
        "1. Exploratory\n",
        "* charts are still incomplete and have no appeal\n",
        "* you are still exploring the data to see the patterns and insights\n",
        "2. Explonatory\n",
        "* now you show the output so the audience and main goal is your focus\n",
        "* how would the audience perceive or understand the visualization?\n",
        "* do you portray the actual goal of the visual"
      ],
      "metadata": {
        "id": "FvRMC4RbRYTw"
      }
    },
    {
      "cell_type": "markdown",
      "source": [
        "# Numpy and matplotlib\n",
        "\n",
        "numpy - fundamental package for scientific computing with Python; enables the creation of N-dimensional arrays\n",
        "\n",
        "matplotlib - comprehensive library for creating static, animated and interactive visualizations in Python"
      ],
      "metadata": {
        "id": "m-aIJUzgUg30"
      }
    },
    {
      "cell_type": "code",
      "execution_count": null,
      "metadata": {
        "id": "oApaw9M8RNhn"
      },
      "outputs": [],
      "source": [
        "import numpy as np"
      ]
    },
    {
      "cell_type": "code",
      "source": [
        "np.array([1,2,3])"
      ],
      "metadata": {
        "colab": {
          "base_uri": "https://localhost:8080/"
        },
        "id": "gzznXCBgVJbr",
        "outputId": "35f4a6ab-598d-4758-deca-2545c4ab7f34"
      },
      "execution_count": null,
      "outputs": [
        {
          "output_type": "execute_result",
          "data": {
            "text/plain": [
              "array([1, 2, 3])"
            ]
          },
          "metadata": {},
          "execution_count": 2
        }
      ]
    },
    {
      "cell_type": "code",
      "source": [
        "np.array([[1,2,3],[2,4,6],[4,8,12]])"
      ],
      "metadata": {
        "colab": {
          "base_uri": "https://localhost:8080/"
        },
        "id": "13OiNs5KVOgl",
        "outputId": "bf84adf9-063c-441b-cc65-e5abc55fd3b7"
      },
      "execution_count": null,
      "outputs": [
        {
          "output_type": "execute_result",
          "data": {
            "text/plain": [
              "array([[ 1,  2,  3],\n",
              "       [ 2,  4,  6],\n",
              "       [ 4,  8, 12]])"
            ]
          },
          "metadata": {},
          "execution_count": 3
        }
      ]
    },
    {
      "cell_type": "markdown",
      "source": [
        "Matrix Operation\n",
        "* do not differ much from lists"
      ],
      "metadata": {
        "id": "Djr4PCaDjErv"
      }
    },
    {
      "cell_type": "code",
      "source": [
        "array1 = np.array([[1,1,1],[2,2,2],[3,3,3]])\n",
        "array2 = np.array([[1,2,3],[2,3,4],[3,4,5]])"
      ],
      "metadata": {
        "id": "u8-MWcYJjK9i"
      },
      "execution_count": null,
      "outputs": []
    },
    {
      "cell_type": "code",
      "source": [
        "array1 + array2"
      ],
      "metadata": {
        "colab": {
          "base_uri": "https://localhost:8080/"
        },
        "id": "qxfaYSsDjlNS",
        "outputId": "d95fc7f2-656e-445f-8349-8111c55df4fa"
      },
      "execution_count": null,
      "outputs": [
        {
          "output_type": "execute_result",
          "data": {
            "text/plain": [
              "array([[2, 3, 4],\n",
              "       [4, 5, 6],\n",
              "       [6, 7, 8]])"
            ]
          },
          "metadata": {},
          "execution_count": 5
        }
      ]
    },
    {
      "cell_type": "code",
      "source": [
        "array1 * array2"
      ],
      "metadata": {
        "colab": {
          "base_uri": "https://localhost:8080/"
        },
        "id": "3PpV3cY3jpf-",
        "outputId": "a9c7808d-dfa6-4f68-c8c7-920be6e4b79f"
      },
      "execution_count": null,
      "outputs": [
        {
          "output_type": "execute_result",
          "data": {
            "text/plain": [
              "array([[ 1,  2,  3],\n",
              "       [ 4,  6,  8],\n",
              "       [ 9, 12, 15]])"
            ]
          },
          "metadata": {},
          "execution_count": 6
        }
      ]
    },
    {
      "cell_type": "markdown",
      "source": [
        "Matrix Indexing\n",
        "* use multiple square brackets to pertain to an element\n",
        "* [row,column]\n",
        "* rows and columns index start from 0"
      ],
      "metadata": {
        "id": "0qHK1UiWjvly"
      }
    },
    {
      "cell_type": "code",
      "source": [
        "arrayindex = np.array([[1,2,3],[4,5,6],[7,8,9]])\n",
        "print(arrayindex)"
      ],
      "metadata": {
        "colab": {
          "base_uri": "https://localhost:8080/"
        },
        "id": "qyGbMJnEj7Bv",
        "outputId": "8806b318-3d85-4560-fd56-891746a6ae49"
      },
      "execution_count": null,
      "outputs": [
        {
          "output_type": "stream",
          "name": "stdout",
          "text": [
            "[[1 2 3]\n",
            " [4 5 6]\n",
            " [7 8 9]]\n"
          ]
        }
      ]
    },
    {
      "cell_type": "code",
      "source": [
        "arrayindex[1,2]"
      ],
      "metadata": {
        "colab": {
          "base_uri": "https://localhost:8080/"
        },
        "id": "9oR5v7ObkLiW",
        "outputId": "b1d71948-87f6-4ee5-98aa-1b7f11537f39"
      },
      "execution_count": null,
      "outputs": [
        {
          "output_type": "execute_result",
          "data": {
            "text/plain": [
              "6"
            ]
          },
          "metadata": {},
          "execution_count": 8
        }
      ]
    },
    {
      "cell_type": "code",
      "source": [
        "arrayindex[0:1]"
      ],
      "metadata": {
        "colab": {
          "base_uri": "https://localhost:8080/"
        },
        "id": "XdCnCtKmkaC6",
        "outputId": "8d908744-1ef7-4003-d9ff-10b12401b491"
      },
      "execution_count": null,
      "outputs": [
        {
          "output_type": "execute_result",
          "data": {
            "text/plain": [
              "array([[1, 2, 3]])"
            ]
          },
          "metadata": {},
          "execution_count": 9
        }
      ]
    },
    {
      "cell_type": "code",
      "source": [
        "arrayindex[1:2]"
      ],
      "metadata": {
        "colab": {
          "base_uri": "https://localhost:8080/"
        },
        "id": "ukgrBzONkjkG",
        "outputId": "42c7370e-a657-4d14-c40e-663ed510e484"
      },
      "execution_count": null,
      "outputs": [
        {
          "output_type": "execute_result",
          "data": {
            "text/plain": [
              "array([[4, 5, 6]])"
            ]
          },
          "metadata": {},
          "execution_count": 10
        }
      ]
    },
    {
      "cell_type": "code",
      "source": [
        "arrayindex[0:2, 1]"
      ],
      "metadata": {
        "colab": {
          "base_uri": "https://localhost:8080/"
        },
        "id": "kqSoI2S0kmIh",
        "outputId": "75c79d33-8fb0-4577-f38e-50ee622dc11a"
      },
      "execution_count": null,
      "outputs": [
        {
          "output_type": "execute_result",
          "data": {
            "text/plain": [
              "array([2, 5])"
            ]
          },
          "metadata": {},
          "execution_count": 12
        }
      ]
    },
    {
      "cell_type": "code",
      "source": [
        "arrayindex[0:2, 0:2]"
      ],
      "metadata": {
        "colab": {
          "base_uri": "https://localhost:8080/"
        },
        "id": "Mi3QeDnyktXj",
        "outputId": "834d036b-0e2c-4f74-8299-5b92f461c62d"
      },
      "execution_count": null,
      "outputs": [
        {
          "output_type": "execute_result",
          "data": {
            "text/plain": [
              "array([[1, 2],\n",
              "       [4, 5]])"
            ]
          },
          "metadata": {},
          "execution_count": 14
        }
      ]
    },
    {
      "cell_type": "markdown",
      "source": [
        "Using matplotlib.pyplot\n",
        "* pyplot is a collection of command style functions to make changes to a figure"
      ],
      "metadata": {
        "id": "s_wWmUvlk6ig"
      }
    },
    {
      "cell_type": "code",
      "source": [
        "import matplotlib.pyplot as plt\n",
        "plt.plot([1,2,3,4])\n",
        "plt.ylabel('some numbers')\n",
        "plt.show()"
      ],
      "metadata": {
        "colab": {
          "base_uri": "https://localhost:8080/",
          "height": 430
        },
        "id": "mbK5Wtw5lKZA",
        "outputId": "cdaa4bd3-f5b8-45c8-f0e9-5e6f8a2c0229"
      },
      "execution_count": null,
      "outputs": [
        {
          "output_type": "display_data",
          "data": {
            "text/plain": [
              "<Figure size 640x480 with 1 Axes>"
            ],
            "image/png": "[encoded data removed]"
          },
          "metadata": {}
        }
      ]
    },
    {
      "cell_type": "code",
      "source": [
        "plt.plot([1,2,3,4],[5,3,9,10])"
      ],
      "metadata": {
        "colab": {
          "base_uri": "https://localhost:8080/",
          "height": 447
        },
        "id": "tzKr8e1ila2f",
        "outputId": "5f0e4e27-4bdd-4ced-9f64-bedd3b2144ac"
      },
      "execution_count": null,
      "outputs": [
        {
          "output_type": "execute_result",
          "data": {
            "text/plain": [
              "[<matplotlib.lines.Line2D at 0x7a7977d74b50>]"
            ]
          },
          "metadata": {},
          "execution_count": 18
        },
        {
          "output_type": "display_data",
          "data": {
            "text/plain": [
              "<Figure size 640x480 with 1 Axes>"
            ],
            "image/png": "[encoded data removed]"
          },
          "metadata": {}
        }
      ]
    },
    {
      "cell_type": "code",
      "source": [
        "xaxis = np.array([1,2,3,4,5,6,7,8,9,10])\n",
        "yaxis = np.array([4,6,11,8,6,15,2,1,10,19])\n",
        "plt.plot(xaxis,yaxis)"
      ],
      "metadata": {
        "colab": {
          "base_uri": "https://localhost:8080/",
          "height": 447
        },
        "id": "ZshUkUxFlsa_",
        "outputId": "b2885ab8-cd47-44f3-b539-885d749f9933"
      },
      "execution_count": null,
      "outputs": [
        {
          "output_type": "execute_result",
          "data": {
            "text/plain": [
              "[<matplotlib.lines.Line2D at 0x7a7977eb6950>]"
            ]
          },
          "metadata": {},
          "execution_count": 20
        },
        {
          "output_type": "display_data",
          "data": {
            "text/plain": [
              "<Figure size 640x480 with 1 Axes>"
            ],
            "image/png": "[encoded data removed]"
          },
          "metadata": {}
        }
      ]
    },
    {
      "cell_type": "code",
      "source": [
        "plt.scatter(xaxis,yaxis)"
      ],
      "metadata": {
        "colab": {
          "base_uri": "https://localhost:8080/",
          "height": 447
        },
        "id": "Hc9EslukmBSK",
        "outputId": "7f004d53-1622-4d40-fddc-85a424a9deff"
      },
      "execution_count": null,
      "outputs": [
        {
          "output_type": "execute_result",
          "data": {
            "text/plain": [
              "<matplotlib.collections.PathCollection at 0x7a797a2eeaa0>"
            ]
          },
          "metadata": {},
          "execution_count": 21
        },
        {
          "output_type": "display_data",
          "data": {
            "text/plain": [
              "<Figure size 640x480 with 1 Axes>"
            ],
            "image/png": "[encoded data removed]"
          },
          "metadata": {}
        }
      ]
    },
    {
      "cell_type": "code",
      "source": [
        "plt.bar(xaxis,yaxis)"
      ],
      "metadata": {
        "colab": {
          "base_uri": "https://localhost:8080/",
          "height": 447
        },
        "id": "sGPfMtLqmGbo",
        "outputId": "f5cf8337-0581-448f-f141-72df9452ff1d"
      },
      "execution_count": null,
      "outputs": [
        {
          "output_type": "execute_result",
          "data": {
            "text/plain": [
              "<BarContainer object of 10 artists>"
            ]
          },
          "metadata": {},
          "execution_count": 23
        },
        {
          "output_type": "display_data",
          "data": {
            "text/plain": [
              "<Figure size 640x480 with 1 Axes>"
            ],
            "image/png": "[encoded data removed]"
          },
          "metadata": {}
        }
      ]
    },
    {
      "cell_type": "code",
      "source": [
        "plt.hist(yaxis)"
      ],
      "metadata": {
        "colab": {
          "base_uri": "https://localhost:8080/",
          "height": 482
        },
        "id": "31PR98cXmL_w",
        "outputId": "d8f5a383-0cd0-4aad-ba95-a0466014f957"
      },
      "execution_count": null,
      "outputs": [
        {
          "output_type": "execute_result",
          "data": {
            "text/plain": [
              "(array([2., 1., 2., 1., 0., 2., 0., 1., 0., 1.]),\n",
              " array([ 1. ,  2.8,  4.6,  6.4,  8.2, 10. , 11.8, 13.6, 15.4, 17.2, 19. ]),\n",
              " <BarContainer object of 10 artists>)"
            ]
          },
          "metadata": {},
          "execution_count": 24
        },
        {
          "output_type": "display_data",
          "data": {
            "text/plain": [
              "<Figure size 640x480 with 1 Axes>"
            ],
            "image/png": "[encoded data removed]"
          },
          "metadata": {}
        }
      ]
    },
    {
      "cell_type": "markdown",
      "source": [
        "# 8: Object Based Programming\n",
        "\n",
        "* data type of a data structure is defined by the programmers\n",
        "* method - operations that can be used for the data structure are defined by functions tied to the data structure\n",
        "* data structure -> object\n",
        "\n",
        "Advantages of OOP\n",
        "* inheritance can be defined - eliminate redundant code\n",
        "* relationships between objects - higher productivity\n",
        "* enables data hiding\n",
        "* objects can be created multiple times and co-exist without any interference on namespaces or memory usage\n",
        "* easy to partition most work based on objects\n",
        "* systems running on OOP are easily upgraded from small to large systems\n",
        "* sofyware complexity is easily managed\n",
        "\n"
      ],
      "metadata": {
        "id": "F7_LYJ-OsPSP"
      }
    },
    {
      "cell_type": "markdown",
      "source": [
        "CONCEPTS\n",
        "\n",
        "Class\n",
        "* entity that determines how an object will behave, what the object will contain and what IS the object\n",
        "* class - blueprint to build a specific type of project\n",
        "* object - specimen of a class; used to model real-world objects\n",
        "\n",
        "\n",
        "use keyword 'class' and always capitalize the classname\n",
        "```\n",
        "class SampleClass:\n",
        "  pass     # this is the blueprint\n",
        "\n",
        "sample = SampleClass()\n",
        "```\n",
        "creating a class instance/ creating an object = **CLASS INSTANTIATION**\n"
      ],
      "metadata": {
        "id": "gLf3BbNGtSzH"
      }
    },
    {
      "cell_type": "markdown",
      "source": [
        "LEC 8 EXAMPLE"
      ],
      "metadata": {
        "id": "4IBBImtjyxtG"
      }
    },
    {
      "cell_type": "markdown",
      "source": [
        "Eaxmple: DEMON SLAYER\n",
        "\n",
        "Tanjiro, Nezuko, Rengoku\n",
        "* What is a blueprint? used especially for copying\n",
        "* How do we make the blueprint? we find common characteristics of the object we want to create\n",
        "\n",
        "\n",
        "Attributes and Actions\n",
        "* attributes - common cahracteristics that define/describe the object we want to create\n",
        "* these are defined in the initialization (instance attribute/class attribute)\n",
        "* class attribute - defined outside constructor/ def function\n",
        "* instance attribute - defined inside constructor/ def function/ loob ng method\n",
        "* method - things that the object will or can do (upon instantiation) are its behaviors or actions; defined using functions\n",
        "\n",
        "Class Constructor: INIT\n",
        "* instance attributes (inside methods) are defined in class constructor\n",
        "* this function is run when a class instance is created or run in the program\n",
        "* __ init __\n",
        "\n",
        "Class: Self\n",
        "* INIT function and every other method in the class always include the parameter -self-, somethimes called the object reference\n",
        "* used to attach variables and methods to a class\n",
        "* represents the object of the class for which the method is called\n",
        "* must always include self in the parameters of a class method (if the method should be attached to the object itself)\n",
        "\n",
        "```\n",
        "class SampleClass:\n",
        "  def printThis(self):\n",
        "    print('This')\n",
        "\n",
        "sample = SampleClass()\n",
        "sample.printThis()\n",
        "```\n",
        "method 'printThis' is attached to the object itself ('sample')\n",
        "\n",
        "Class Constructor INIT\n",
        "```\n",
        "class DSCharacter\n",
        "  def __init__(self, stringgiven):\n",
        "    self.name = stringgiven\n",
        "    self.race = 'human'\n",
        "    self.offense = 50\n",
        "```\n",
        "* stringgiven is attribute given upon creation of object\n",
        "* .race, .offense are attributes\n",
        "\n",
        "Attribute: Instance or Class\n",
        "```\n",
        "class MyClass:\n",
        "  class_attribute = 'Hello'\n",
        "\n",
        "  def __init__(self, variable):\n",
        "    self.instance_attribute = variable\n",
        "```\n",
        "```\n",
        "print(MyClass.class_attribute)\n",
        "obj = MyClass('Hi')\n",
        "print(obj.class_attribute)\n",
        "print(obj.instance_attribute)\n",
        "```\n",
        "```\n",
        "Hello\n",
        "Hi\n",
        "```\n"
      ],
      "metadata": {
        "id": "yoe7qT4YvO-S"
      }
    },
    {
      "cell_type": "markdown",
      "source": [
        "Attribute\n",
        "* to access the attribute, use the class instance and the attribute name"
      ],
      "metadata": {
        "id": "WYwwgnBf2xJg"
      }
    },
    {
      "cell_type": "code",
      "source": [
        "class DSCharacter:\n",
        "  def __init__(self, stringgiven):\n",
        "    self.name = stringgiven\n",
        "    self.race = 'human'\n",
        "    self.offense = 50\n",
        "    defense = 100 # attribute is not attached to object\n",
        "\n",
        "slayer = DSCharacter('Tanjiro')\n",
        "print(slayer.name) # attribute name is attached to the object slayer\n",
        "print(slayer.offense)\n",
        "print(slayer.race)\n",
        "print(slayer.defense)"
      ],
      "metadata": {
        "colab": {
          "base_uri": "https://localhost:8080/",
          "height": 238
        },
        "id": "xFrDDhvv23P3",
        "outputId": "4d5db6cb-17c6-4e93-aaf0-75953d889228"
      },
      "execution_count": null,
      "outputs": [
        {
          "output_type": "stream",
          "name": "stdout",
          "text": [
            "Tanjiro\n",
            "50\n",
            "human\n"
          ]
        },
        {
          "output_type": "error",
          "ename": "AttributeError",
          "evalue": "'DSCharacter' object has no attribute 'defense'",
          "traceback": [
            "\u001b[0;31m---------------------------------------------------------------------------\u001b[0m",
            "\u001b[0;31mAttributeError\u001b[0m                            Traceback (most recent call last)",
            "\u001b[0;32m<ipython-input-5-ad08968733d3>\u001b[0m in \u001b[0;36m<cell line: 12>\u001b[0;34m()\u001b[0m\n\u001b[1;32m     10\u001b[0m \u001b[0mprint\u001b[0m\u001b[0;34m(\u001b[0m\u001b[0mslayer\u001b[0m\u001b[0;34m.\u001b[0m\u001b[0moffense\u001b[0m\u001b[0;34m)\u001b[0m\u001b[0;34m\u001b[0m\u001b[0;34m\u001b[0m\u001b[0m\n\u001b[1;32m     11\u001b[0m \u001b[0mprint\u001b[0m\u001b[0;34m(\u001b[0m\u001b[0mslayer\u001b[0m\u001b[0;34m.\u001b[0m\u001b[0mrace\u001b[0m\u001b[0;34m)\u001b[0m\u001b[0;34m\u001b[0m\u001b[0;34m\u001b[0m\u001b[0m\n\u001b[0;32m---> 12\u001b[0;31m \u001b[0mprint\u001b[0m\u001b[0;34m(\u001b[0m\u001b[0mslayer\u001b[0m\u001b[0;34m.\u001b[0m\u001b[0mdefense\u001b[0m\u001b[0;34m)\u001b[0m\u001b[0;34m\u001b[0m\u001b[0;34m\u001b[0m\u001b[0m\n\u001b[0m",
            "\u001b[0;31mAttributeError\u001b[0m: 'DSCharacter' object has no attribute 'defense'"
          ]
        }
      ]
    },
    {
      "cell_type": "code",
      "source": [
        "class DSCharacter:\n",
        "  def __init__(self, stringgiven):\n",
        "    self.name = stringgiven\n",
        "    self.race = 'human'\n",
        "    self.offense = 50\n",
        "    defense = 100 # attribute is not attached to object\n",
        "\n",
        "  def attack(self):\n",
        "    print('Water Surface Slash') # method\n",
        "\n",
        "slayer = DSCharacter('Tanjiro')\n",
        "slayer.attack()"
      ],
      "metadata": {
        "colab": {
          "base_uri": "https://localhost:8080/"
        },
        "id": "6sHrC5Fc3-VT",
        "outputId": "60899267-b713-4b90-aa0c-415f4f76701e"
      },
      "execution_count": null,
      "outputs": [
        {
          "output_type": "stream",
          "name": "stdout",
          "text": [
            "Water Surface Slash\n"
          ]
        }
      ]
    },
    {
      "cell_type": "code",
      "source": [
        "class DSCharacter:\n",
        "  def __init__(self, stringgiven):\n",
        "    self.name = stringgiven\n",
        "    self.race = 'human'\n",
        "    self.offense = 50\n",
        "    defense = 100 # attribute is not attached to object\n",
        "\n",
        "  def attack(): # NO SELF WHATTTTT\n",
        "    print('Water Surface Slash') # method\n",
        "\n",
        "slayer = DSCharacter('Tanjiro')\n",
        "slayer.attack()"
      ],
      "metadata": {
        "colab": {
          "base_uri": "https://localhost:8080/",
          "height": 183
        },
        "id": "m63-NtP15NL3",
        "outputId": "7dea6bb9-12ae-401f-9e10-43acffd996ad"
      },
      "execution_count": null,
      "outputs": [
        {
          "output_type": "error",
          "ename": "TypeError",
          "evalue": "DSCharacter.attack() takes 0 positional arguments but 1 was given",
          "traceback": [
            "\u001b[0;31m---------------------------------------------------------------------------\u001b[0m",
            "\u001b[0;31mTypeError\u001b[0m                                 Traceback (most recent call last)",
            "\u001b[0;32m<ipython-input-9-e25d601d63c1>\u001b[0m in \u001b[0;36m<cell line: 12>\u001b[0;34m()\u001b[0m\n\u001b[1;32m     10\u001b[0m \u001b[0;34m\u001b[0m\u001b[0m\n\u001b[1;32m     11\u001b[0m \u001b[0mslayer\u001b[0m \u001b[0;34m=\u001b[0m \u001b[0mDSCharacter\u001b[0m\u001b[0;34m(\u001b[0m\u001b[0;34m'Tanjiro'\u001b[0m\u001b[0;34m)\u001b[0m\u001b[0;34m\u001b[0m\u001b[0;34m\u001b[0m\u001b[0m\n\u001b[0;32m---> 12\u001b[0;31m \u001b[0mslayer\u001b[0m\u001b[0;34m.\u001b[0m\u001b[0mattack\u001b[0m\u001b[0;34m(\u001b[0m\u001b[0;34m)\u001b[0m\u001b[0;34m\u001b[0m\u001b[0;34m\u001b[0m\u001b[0m\n\u001b[0m",
            "\u001b[0;31mTypeError\u001b[0m: DSCharacter.attack() takes 0 positional arguments but 1 was given"
          ]
        }
      ]
    },
    {
      "cell_type": "code",
      "source": [
        "class DSCharacter:\n",
        "  def __init__(self, stringgiven):\n",
        "    self.name = stringgiven\n",
        "    self.race = 'human'\n",
        "    self.offense = 50\n",
        "    defense = 100\n",
        "    self.attack() # not all methods need to be called outside the class\n",
        "  def attack(self):\n",
        "    print('Water Surface Slash') # method\n",
        "\n",
        "slayer = DSCharacter('Tanjiro')"
      ],
      "metadata": {
        "colab": {
          "base_uri": "https://localhost:8080/"
        },
        "id": "dHYo7ywL5VKK",
        "outputId": "785ab160-b8b5-4a16-ab52-b9c9f60755eb"
      },
      "execution_count": null,
      "outputs": [
        {
          "output_type": "stream",
          "name": "stdout",
          "text": [
            "Water Surface Slash\n"
          ]
        }
      ]
    },
    {
      "cell_type": "code",
      "source": [
        "class DSCharacter:\n",
        "  def __init__(self, stringgiven):\n",
        "    self.name = stringgiven\n",
        "    self.race = 'human'\n",
        "    self.offense = 50\n",
        "    self.attack()\n",
        "\n",
        "  def attack(self):\n",
        "    print(self.offense) # init can be called in methods\n",
        "\n",
        "slayer = DSCharacter('Tanjiro')\n",
        "slayer.attack()"
      ],
      "metadata": {
        "colab": {
          "base_uri": "https://localhost:8080/"
        },
        "id": "Ij0XuNa78kOu",
        "outputId": "9e8c801a-f79f-41fa-962f-d96cea6b4d13"
      },
      "execution_count": null,
      "outputs": [
        {
          "output_type": "stream",
          "name": "stdout",
          "text": [
            "50\n",
            "50\n"
          ]
        }
      ]
    },
    {
      "cell_type": "markdown",
      "source": [
        "Relationships\n",
        "* relationship - what a class or an object knows about another class or object.\n",
        "* Generalization-Specialization (superclass/subclass)\n",
        "1. inheritance\n",
        "2. person - facultyperson, studentperson, staff\n",
        "3. ModesOfTravel - Airplane, train, auto, cycle, boat\n",
        "* Composition (whole-part)\n",
        "1. assembly - parts\n",
        "2. group - members\n",
        "3. container - content\n",
        "* object associations\n",
        "1. facultyinfo - courseinfo\n",
        "2. studentinfo - courseinfo"
      ],
      "metadata": {
        "id": "b59lENdU9khb"
      }
    },
    {
      "cell_type": "code",
      "source": [
        "# DOCSTRINGS\n",
        "class MLHero:\n",
        "  '''\n",
        "  The MLHero object can be given a name but contains deafult values of durability\n",
        "  and offense used for defending and attacking other MLHero objects\n",
        "\n",
        "  Attributes\n",
        "  name (str) : thru parameter stringname\n",
        "  durability (int, default): sets durability of the hero, default = 70\n",
        "  offense (int, default) : sets the attack power of the hero, default = 50\n",
        "\n",
        "  Methods\n",
        "  skill : prints 'attack' when run\n",
        "  '''\n",
        "  def __init__(self, stringname):\n",
        "    '''\n",
        "    Parameters\n",
        "    stringname (str) : name of MLHero provided upon instance\n",
        "    '''\n",
        "    self.name = stringname\n",
        "    self.durability = 70\n",
        "    self.offense = 50\n",
        "\n",
        "  def skill(self):\n",
        "    '''\n",
        "    Parameters\n",
        "    None\n",
        "\n",
        "    Return\n",
        "    None\n",
        "    '''\n",
        "    print('attack')"
      ],
      "metadata": {
        "id": "ZgkJrBo6-W6z"
      },
      "execution_count": null,
      "outputs": []
    },
    {
      "cell_type": "markdown",
      "source": [
        "Operation Overload\n",
        "* python enables programmers to be sensitive to the context in which they are used\n",
        "* interpreter takes appropriate action based on the way the operator is used\n",
        "* allows programmer to reuse/modify existing comments and operations enabling the customization of classes\n",
        "* job performed by overloaded operators can be performed by explicit method calls (.add()), but operator notation is clearer (+)\n",
        "* class can be defined such that operations are overloaded in using that object -> using special methods\n",
        "* special methods/ magic method/ dunder method\n",
        "* magic methods are not limited to operation overloading, but it is the most common"
      ],
      "metadata": {
        "id": "YFW3OLV__stw"
      }
    },
    {
      "cell_type": "code",
      "source": [
        "# operation overlading example\n",
        "class DSCharacter:\n",
        "  def __init__(self, stringgiven):\n",
        "    self.name = stringgiven\n",
        "    self.race = 'human'\n",
        "    self.offense = 50\n",
        "\n",
        "  def __str__(self): # overloading the print and str functions\n",
        "    return('Demon Slayer') # parang attached yung printing ng demon slayer sa object\n",
        "\n",
        "slayer = DSCharacter('Tanjiro')\n",
        "print(slayer)"
      ],
      "metadata": {
        "colab": {
          "base_uri": "https://localhost:8080/"
        },
        "id": "7KicUH72BDBD",
        "outputId": "3f783c31-e647-45fe-c99c-3a367df8b583"
      },
      "execution_count": null,
      "outputs": [
        {
          "output_type": "stream",
          "name": "stdout",
          "text": [
            "Demon Slayer\n"
          ]
        }
      ]
    },
    {
      "cell_type": "markdown",
      "source": [
        "* common operators and augmented assignments can be overloaded\n",
        "* precedence cannot be changed\n",
        "* __ abs__\n",
        "* __ divmod__\n",
        "* __ len__ len()\n",
        "* __ pow__\n",
        "* __ lt__ less than\n",
        "* __ le__ less than equal\n",
        "* __ eq__ equal to\n",
        "* __ ne__ not equal\n",
        "* __ gt__ greater tahn\n",
        "* __ ge__ greater than equal\n",
        "* __ len__ less than\n",
        "* __ getitem__ indexing: x[3]\n",
        "* __ setitem__ assigning to indexed values: x[3] = 2\n",
        "* __ contains__ ln(contains)"
      ],
      "metadata": {
        "id": "Fs0l1gZhByBR"
      }
    },
    {
      "cell_type": "code",
      "source": [
        "# Exercise\n",
        "class Number:\n",
        "  def __init__(self,number):\n",
        "    self.number = number\n",
        " #create next after this\n",
        "\n",
        "  def __add__(self, number2): # inadd 9 at yung 2nd number\n",
        "    return self.number + number2\n",
        "\n",
        "sample = Number(9) # assign 9 to sample\n",
        "sample + 3 # this '+' overloaded yung __add__"
      ],
      "metadata": {
        "colab": {
          "base_uri": "https://localhost:8080/"
        },
        "id": "OnATTpCNDuoO",
        "outputId": "28444d1f-f72a-4146-badc-ebf4f9fb75d9"
      },
      "execution_count": null,
      "outputs": [
        {
          "output_type": "execute_result",
          "data": {
            "text/plain": [
              "12"
            ]
          },
          "metadata": {},
          "execution_count": 32
        }
      ]
    },
    {
      "cell_type": "code",
      "source": [
        "class Number:\n",
        "  def __init__(self,number):\n",
        "    self.number = number\n",
        " #create next after this\n",
        "\n",
        "  def __mul__(self, number2): # minultiply 9 at yung 2nd number\n",
        "    return self.number * number2\n",
        "\n",
        "sample = Number(9) # assign 9 to sample\n",
        "sample * 3 # this '*' overloaded yung __mul__"
      ],
      "metadata": {
        "colab": {
          "base_uri": "https://localhost:8080/"
        },
        "id": "XdT9mOXiFgHD",
        "outputId": "7eedeb99-98bc-4a5c-bfed-cb4c31036c90"
      },
      "execution_count": null,
      "outputs": [
        {
          "output_type": "execute_result",
          "data": {
            "text/plain": [
              "27"
            ]
          },
          "metadata": {},
          "execution_count": 35
        }
      ]
    },
    {
      "cell_type": "markdown",
      "source": [
        "Public and Private Variables\n",
        "\n",
        "Data Hiding\n",
        "* done when the implementation details of a class should be hidden\n",
        "* clean standard interface present for those who want to use the class\n",
        "* done with private methods and attributes, which blocks certian methods and attributes in a class\n",
        "\n",
        "Data Hiding Private\n",
        "* **weakly** private methods have a single underscore at the beginning\n",
        "* signals that they are private and shouldn't be used by external code\n",
        "* self._hiddenlist = list(password)\n",
        "\n",
        "* **strongly** private methods and attributes have a double underscore at the beginning of their names\n",
        "* causes their names to be mangled, and can't be accessed from outside of class\n",
        "* ensure to avoid bugs if their are subclasses that have methods or attributes with the same names\n",
        "* name mangled methods can be accessed externally by a different name\n"
      ],
      "metadata": {
        "id": "61rO4ab3Ftye"
      }
    },
    {
      "cell_type": "code",
      "source": [
        "class Spam:\n",
        "  __egg = 7\n",
        "  def print_egg(self):\n",
        "    print(self.__egg)\n",
        "\n",
        "s = Spam()\n",
        "s.print_egg()\n",
        "# use methods to access private attributes/methods\n",
        "\n",
        "print(s._Spam__egg)\n",
        "# defeats the prupose of making it private"
      ],
      "metadata": {
        "colab": {
          "base_uri": "https://localhost:8080/"
        },
        "id": "40RDjUdhHWOa",
        "outputId": "7434e647-d089-4d9a-98cf-047ef3fa1a8e"
      },
      "execution_count": null,
      "outputs": [
        {
          "output_type": "stream",
          "name": "stdout",
          "text": [
            "7\n",
            "7\n"
          ]
        }
      ]
    },
    {
      "cell_type": "markdown",
      "source": [
        "Get and Set methods\n",
        "* user should access attributes via access methods - get and set methods to ensure data integirty\n",
        "* get method - alllows the user to access the attribute but with the formatting decision of the programmer\n",
        "* set method - allows the user to modify the value, but progranmer can first check the value for appropriateness"
      ],
      "metadata": {
        "id": "JoaCC1MpHdNe"
      }
    },
    {
      "cell_type": "code",
      "source": [
        "class Person:\n",
        "  def __init__(self, name_string, age_int, salary_float):\n",
        "    self.name = name_string\n",
        "    self._age = age_int\n",
        "    self._salary = salary_float # or self.setSalary(salary_float)\n",
        "\n",
        "  def getSalary(self): # get the self._salary attribute\n",
        "    if self._salary < 10000:\n",
        "      return \"{}'s salary is less than 10000\".format(self.name)\n",
        "    elif self._salary >= 10000 and self._salary < 25000:\n",
        "      return \"{}'s salary is between 10000 - 25000\".format(self.name)\n",
        "    else:\n",
        "      return \"{}'s salary is greater than 25000\".format(self.name)\n",
        "\n",
        "  def setSalary(self, new_salary): # sets salary to new one\n",
        "    self._salary = new_salary\n",
        "\n",
        "berto = Person('Berto', 25, 12000) # set object berto with this attributes\n",
        "print(berto.name)\n",
        "print(berto.getSalary()) # get function salary of object berto\n",
        "berto.setSalary(26000) # set new salary\n",
        "print(berto.getSalary())"
      ],
      "metadata": {
        "colab": {
          "base_uri": "https://localhost:8080/"
        },
        "id": "LiltlhrIH4zY",
        "outputId": "2aa80473-b6a5-4a83-c040-6b6fd0d19ccf"
      },
      "execution_count": null,
      "outputs": [
        {
          "output_type": "stream",
          "name": "stdout",
          "text": [
            "Berto\n",
            "Berto's salary is between 10000 - 25000\n",
            "Berto's salary is greater than 25000\n"
          ]
        }
      ]
    },
    {
      "cell_type": "markdown",
      "source": [
        "Decorators: Property, Getter, Setter\n",
        "* we can use decorators to properly manage our attributes"
      ],
      "metadata": {
        "id": "qQSG-oxhK8FB"
      }
    },
    {
      "cell_type": "code",
      "source": [
        "class Persons:\n",
        "    def __init__(self):\n",
        "        self._name = \"\"\n",
        "        self._age = 0\n",
        "\n",
        "    @property\n",
        "    def name(self):\n",
        "        return self._name\n",
        "\n",
        "    @name.setter\n",
        "    def name(self, value):\n",
        "        self._name = value\n",
        "\n",
        "    @property\n",
        "    def age(self):\n",
        "        return self._age\n",
        "\n",
        "harry = Persons()\n",
        "harry.name = \"harry\"\n",
        "print(harry.name)"
      ],
      "metadata": {
        "colab": {
          "base_uri": "https://localhost:8080/"
        },
        "id": "UgDiolEZKeH_",
        "outputId": "b4a06ba1-8764-4ad8-e742-c3201307ba1c"
      },
      "execution_count": null,
      "outputs": [
        {
          "output_type": "stream",
          "name": "stdout",
          "text": [
            "harry\n"
          ]
        }
      ]
    },
    {
      "cell_type": "markdown",
      "source": [
        "Unified Modeling Language\n",
        "* graphical language that uses common notation\n",
        "* allows developers to represent object-oriented analysis and designs\n",
        "* show the classes of the system, their interrelationships (including inheritance, aggregation and association), and the operations and attributes of the classes"
      ],
      "metadata": {
        "id": "YVFqWp9iLXCa"
      }
    },
    {
      "cell_type": "markdown",
      "source": [
        "# Object Oriented programming"
      ],
      "metadata": {
        "id": "x16C5SBeMVbu"
      }
    },
    {
      "cell_type": "markdown",
      "source": [
        "Aspects of OOP\n",
        "* class\n",
        "* inheritance\n",
        "* polymorphism\n",
        "* abstraction\n",
        "* encapsulation\n",
        "\n",
        "OOP: the object reference\n",
        "* lifecycle of an object is made up of its creation, manipulation and destruction\n",
        "* when an object is destroyed, the memory allocated to it is freed up, and can be used for other purposes\n",
        "* destruction of an object occurs when its reference count reaches zero\n",
        "* process of deleting objects when they are no longer needed is garbage collection\n",
        "~~~\n",
        "a =  # create object 42\n",
        "b = a # increase ref. count of 42\n",
        "c = [a] # increase ref count of 42\n",
        "~~~\n",
        "\n",
        "~~~\n",
        "del a  # decrease ref count of 42\n",
        "b =  # decrease ref count of 42\n",
        "c[0] = -1 # decrease ref count of 42\n",
        "~~~\n",
        "\n",
        "Advantages of OOP\n",
        "* inheritance can be defined - eliminate redundant code\n",
        "* relationships between objects - higher productivity\n",
        "* enables data hiding\n",
        "*  __objects can be created multiple times and co-exist without any interference on namespaces or memory usage__\n",
        "* __easy to partition most work based on objects__\n",
        "* __systems running on OOP are easily upgraded from small to large systems__\n",
        "* software complexity is easily managed"
      ],
      "metadata": {
        "id": "4QIZ7WOVNA9Y"
      }
    },
    {
      "cell_type": "markdown",
      "source": [
        "Encapsulation and Abstraction\n",
        "\n",
        "Encapsulation\n",
        "~~~\n",
        "UML\n",
        "Cat\n",
        "-----\n",
        "-mood\n",
        "-hungry\n",
        "-energy\n",
        "-----\n",
        "-meow()\n",
        "\n",
        "+feed()\n",
        "hungry --\n",
        "mood ++\n",
        "meow!\n",
        "\n",
        "+play()\n",
        "mood ++\n",
        "energy --\n",
        "meow!\n",
        "\n",
        "+sleep()\n",
        "energy ++\n",
        "hungry ++\n",
        "~~~\n",
        "* protects your classes from accidental changes or deletions and promotes code reusability and maintainability\n",
        "* class diagram shows that the Cat class is encapsulated as the states are private (mood, hungry, energy and meow method)\n",
        "* state can only be modified using the public access methods (feed, play, sleep)\n",
        "\n",
        "\n",
        "Abstraction\n",
        "* hides the internal implementation of a system and only shows the relevant operations\n",
        "* typically used with abstract classes to hide implementation and focus on functionality\n",
        "* unlike encapsulation where the actual data are hidden for security or general information hiding, the entire implementation is hidden in abstraction\n",
        "* used to hide background details or any unnecessary implementation about the data so that users only see the required information\n",
        "* example: cell phones are complex but using them is simple; what happens under the hood? you don't have to know\n",
        "\n",
        "Encapsulation\n",
        "* hiding information  \n",
        "* focuses on internal state and behavior\n",
        "* problems are solved or prevented at implementation level\n",
        "* objects that result in encapsulation need not to be abstracted\n",
        "\n",
        "Abstraction\n",
        "* hiding implementation\n",
        "* focus on external behavior and functionality\n",
        "* problems are solved or prevented at the design level\n",
        "* objects that help to perform abstraction are encapsulated\n",
        "\n",
        "Advantages of OOP\n",
        "* inheritance can be defined - eliminate redundant code\n",
        "* relationships between objects - higher productivity\n",
        "* this __enables data hiding__\n",
        "*  __objects can be created multiple times and co-exist without any interference on namespaces or memory usage__\n",
        "* __easy to partition most work based on objects__\n",
        "* __systems running on OOP are easily upgraded from small to large systems__\n",
        "* this __software complexity is easily managed__"
      ],
      "metadata": {
        "id": "c59iLX_G3VYt"
      }
    },
    {
      "cell_type": "markdown",
      "source": [
        "Inheritance\n",
        "* as in a biological family, there are parents and children -> parent and child classes\n",
        "* the parent class is usually base class\n",
        "* the child class is known as a derived class\n",
        "* family of classes is known as a class hierarchy\n",
        "* child class reuses all attributes and methods of the parent class (common part) and can implement its own (unique part)\n",
        "* means that you create a class (child class) by deriving (inheriting) from another class (parent class)\n",
        "* we form a class hierarchy\n",
        "* models what is called 'is a' relationship\n",
        "* child/derived class inherits from a parent/base class\n",
        "* child/derived class 'is a' verison of a parent/base class\n",
        "* child class reuses all attributes and methods\n",
        "~~~\n",
        "Base Class\n",
        "^\n",
        "|\n",
        "Derived Class\n",
        "#arrow points to the base class; arrow doesn't need to be filled or unfilled\n",
        "~~~\n",
        "~~~\n",
        "Shape\n",
        "^ - 2d\n",
        "__^ - circle\n",
        "__^ - square\n",
        "__^ - triangle\n",
        "^ - 3d\n",
        "__^ - sphere\n",
        "__ ^ - cube\n",
        "__^ - tetrahedon\n",
        "~~~"
      ],
      "metadata": {
        "id": "BjdL17hf9LwC"
      }
    },
    {
      "cell_type": "code",
      "source": [
        "class Animal:\n",
        "  def __init__(self, name_string, color_string):\n",
        "    self.name = name_string\n",
        "    self.color = color_string\n",
        "\n",
        "class Cat(Animal):\n",
        "  def purr(self):\n",
        "    print(self.name, 'says \\'meow\\' ')\n",
        "\n",
        "class Dog(Animal):\n",
        "  def bark(self):\n",
        "    print(self.name, 'says \\'woof\\' ')"
      ],
      "metadata": {
        "id": "kIY38gpgEcut"
      },
      "execution_count": null,
      "outputs": []
    },
    {
      "cell_type": "code",
      "source": [
        "bucky = Dog('bucky', 'brown')\n",
        "bucky.color"
      ],
      "metadata": {
        "colab": {
          "base_uri": "https://localhost:8080/",
          "height": 36
        },
        "id": "5BXPouvhFUnN",
        "outputId": "4c789b2d-1ed7-4d8b-f747-af343339ca73"
      },
      "execution_count": null,
      "outputs": [
        {
          "output_type": "execute_result",
          "data": {
            "text/plain": [
              "'brown'"
            ],
            "application/vnd.google.colaboratory.intrinsic+json": {
              "type": "string"
            }
          },
          "metadata": {},
          "execution_count": 6
        }
      ]
    },
    {
      "cell_type": "code",
      "source": [
        "bucky.name"
      ],
      "metadata": {
        "colab": {
          "base_uri": "https://localhost:8080/",
          "height": 36
        },
        "id": "mfPawGGVFmda",
        "outputId": "ee58bea6-0e68-4525-f4cb-3f9129f0308f"
      },
      "execution_count": null,
      "outputs": [
        {
          "output_type": "execute_result",
          "data": {
            "text/plain": [
              "'bucky'"
            ],
            "application/vnd.google.colaboratory.intrinsic+json": {
              "type": "string"
            }
          },
          "metadata": {},
          "execution_count": 7
        }
      ]
    },
    {
      "cell_type": "code",
      "source": [
        "bucky.bark()"
      ],
      "metadata": {
        "colab": {
          "base_uri": "https://localhost:8080/"
        },
        "id": "JuAJnTg2G6H_",
        "outputId": "8bc5e8b2-292b-424c-d65d-720903d1d417"
      },
      "execution_count": null,
      "outputs": [
        {
          "output_type": "stream",
          "name": "stdout",
          "text": [
            "bucky says 'woof' \n"
          ]
        }
      ]
    },
    {
      "cell_type": "code",
      "source": [
        "bucky = Dog()\n",
        "# it even inherits the class constructor"
      ],
      "metadata": {
        "colab": {
          "base_uri": "https://localhost:8080/",
          "height": 165
        },
        "id": "_9uhQy5JG_dE",
        "outputId": "d992afed-12f5-4537-8643-217d9feacb05"
      },
      "execution_count": null,
      "outputs": [
        {
          "output_type": "error",
          "ename": "TypeError",
          "evalue": "Animal.__init__() missing 2 required positional arguments: 'name_string' and 'color_string'",
          "traceback": [
            "\u001b[0;31m---------------------------------------------------------------------------\u001b[0m",
            "\u001b[0;31mTypeError\u001b[0m                                 Traceback (most recent call last)",
            "\u001b[0;32m<ipython-input-9-83d7c21cb9b9>\u001b[0m in \u001b[0;36m<cell line: 1>\u001b[0;34m()\u001b[0m\n\u001b[0;32m----> 1\u001b[0;31m \u001b[0mbucky\u001b[0m \u001b[0;34m=\u001b[0m \u001b[0mDog\u001b[0m\u001b[0;34m(\u001b[0m\u001b[0;34m)\u001b[0m\u001b[0;34m\u001b[0m\u001b[0;34m\u001b[0m\u001b[0m\n\u001b[0m",
            "\u001b[0;31mTypeError\u001b[0m: Animal.__init__() missing 2 required positional arguments: 'name_string' and 'color_string'"
          ]
        }
      ]
    },
    {
      "cell_type": "code",
      "source": [
        "class A:\n",
        "  def methodA(self):\n",
        "    print('Method A')\n",
        "\n",
        "class B(A):    # class B inherits class A\n",
        "  def methodB(self): # B can use mthodA and any attributes of A\n",
        "    print('Method B')\n",
        "\n",
        "class C(B):     # class C inherits class A and B\n",
        "  def methodC(self): # C can use the methods and attributes of classes A and B\n",
        "    print('Method C')"
      ],
      "metadata": {
        "id": "qan3TuueHPcY"
      },
      "execution_count": null,
      "outputs": []
    },
    {
      "cell_type": "code",
      "source": [
        "letter_c = C()\n",
        "letter_c.methodA()"
      ],
      "metadata": {
        "colab": {
          "base_uri": "https://localhost:8080/"
        },
        "id": "1r-R1d9fHwg4",
        "outputId": "df4583b8-a414-4c29-ff2e-d8fa2d4b7de1"
      },
      "execution_count": null,
      "outputs": [
        {
          "output_type": "stream",
          "name": "stdout",
          "text": [
            "Method A\n"
          ]
        }
      ]
    },
    {
      "cell_type": "code",
      "source": [
        "letter_c.methodB()"
      ],
      "metadata": {
        "colab": {
          "base_uri": "https://localhost:8080/"
        },
        "id": "bdL9JYIFIKRR",
        "outputId": "7c036292-3457-4de1-bf93-43637728c82e"
      },
      "execution_count": null,
      "outputs": [
        {
          "output_type": "stream",
          "name": "stdout",
          "text": [
            "Method B\n"
          ]
        }
      ]
    },
    {
      "cell_type": "code",
      "source": [
        "letter_c.methodC()"
      ],
      "metadata": {
        "colab": {
          "base_uri": "https://localhost:8080/"
        },
        "id": "q4EmuzubIOcV",
        "outputId": "de5b92f9-82c4-41d7-e909-dc7c40f61f7f"
      },
      "execution_count": null,
      "outputs": [
        {
          "output_type": "stream",
          "name": "stdout",
          "text": [
            "Method C\n"
          ]
        }
      ]
    },
    {
      "cell_type": "code",
      "source": [
        "'''\n",
        "MULTIPLE INHERITANCE\n",
        "'''\n",
        "class Person:\n",
        "  mood = 'neutral'\n",
        "  def __init__ (self, name, age):\n",
        "    self.name = name\n",
        "    self.age = age\n",
        "  def printer(self):\n",
        "    print(self.name, self.age)\n",
        "\n",
        "class Student(Person):\n",
        "  mood = 'sleepy'\n",
        "  course = 'GE'\n",
        "  def printer_student (self):\n",
        "    print(self.name, self.age, self.course)\n",
        "\n",
        "class Worker(Person):\n",
        "  work = 'Salesman'\n",
        "  mood = 'tired'\n",
        "  def printer_worker(self):\n",
        "    print(self.name, self.age, self.mood)\n",
        "\n",
        "class WorkingStudent(Worker, Student): # workingstudent inherits two classes, working and student\n",
        "  def printer_working_student(self): # inherits all possible inheritance in the class hierarchy\n",
        "    print(self.name, self.age, self.mood, self.work, self.course)"
      ],
      "metadata": {
        "id": "sx5oyz54Jnsi"
      },
      "execution_count": null,
      "outputs": []
    },
    {
      "cell_type": "code",
      "source": [
        "ws = WorkingStudent('Joseph', 18)\n",
        "\n",
        "ws.printer()\n",
        "ws.printer_student()\n",
        "ws.printer_worker()\n",
        "ws.printer_working_student()"
      ],
      "metadata": {
        "colab": {
          "base_uri": "https://localhost:8080/"
        },
        "id": "O9EK7lK8in1I",
        "outputId": "c7d8cadf-cd31-4de0-f7fd-5ee9ee4405ba"
      },
      "execution_count": null,
      "outputs": [
        {
          "output_type": "stream",
          "name": "stdout",
          "text": [
            "Joseph 18\n",
            "Joseph 18 GE\n",
            "Joseph 18 tired\n",
            "Joseph 18 tired Salesman GE\n"
          ]
        }
      ]
    },
    {
      "cell_type": "markdown",
      "source": [
        "Inheritance: Method Overriding\n",
        "* child class overrides a parent class method when a child class defines a method with the same name as in the parent class\n",
        "* where a child class replaces the implementation of one or more of its parent's methods\n",
        "* if a class inherits from another with the same attributes or methods, it overrides them"
      ],
      "metadata": {
        "id": "oEbHALrvRz4e"
      }
    },
    {
      "cell_type": "code",
      "source": [
        "class Magulang:\n",
        "  def __init__(self, pangalan, kayamanan = 0):\n",
        "    self.pangalan = pangalan\n",
        "    self.kayamanan = kayamanan\n",
        "\n",
        "class Anak(Magulang): # Anak has its own class constructore (init)\n",
        "  def __init__ (self, pangalan): # python will use anak class constructor for any anak instance\n",
        "    self.pangalan = pangalan\n",
        "\n",
        "    # for this example, the inheritance is rendered uselass as the child init method overrides tha parent init"
      ],
      "metadata": {
        "id": "Yg1LOcGJjwC_"
      },
      "execution_count": null,
      "outputs": []
    },
    {
      "cell_type": "code",
      "source": [
        "class Magulang:\n",
        "  def __init__(self, pangalan, kayamanan = 0):\n",
        "    self.pangalan = pangalan\n",
        "    self.kayamanan = kayamanan\n",
        "\n",
        "class Anak(Magulang):\n",
        "  def __init__ (self, pangalan = 'Girl', kayamanan = 1000):\n",
        "    Magulang.__init__(self, pangalan, kayamanan) # unbound method call\n",
        "    # invoke the parent class constructor explicityly\n",
        "    # donw wheb you want custom init for child class"
      ],
      "metadata": {
        "id": "3JYN_56GlIOn"
      },
      "execution_count": null,
      "outputs": []
    },
    {
      "cell_type": "code",
      "source": [
        "girl1 = Anak()\n",
        "print(girl1.kayamanan)\n",
        "print(girl1.pangalan)"
      ],
      "metadata": {
        "id": "84mKdaD7lka5",
        "colab": {
          "base_uri": "https://localhost:8080/"
        },
        "outputId": "edff4c07-031b-479e-8bb4-05576028c578"
      },
      "execution_count": null,
      "outputs": [
        {
          "output_type": "stream",
          "name": "stdout",
          "text": [
            "1000\n",
            "Girl\n"
          ]
        }
      ]
    },
    {
      "cell_type": "code",
      "source": [
        "girl2 = Anak('Anna', 50000)\n",
        "print(girl2.kayamanan)\n",
        "print(girl2.pangalan)"
      ],
      "metadata": {
        "id": "eD6xiKLumEY_",
        "colab": {
          "base_uri": "https://localhost:8080/"
        },
        "outputId": "6e6def4b-215c-4a23-d070-b3c7360cdd93"
      },
      "execution_count": null,
      "outputs": [
        {
          "output_type": "stream",
          "name": "stdout",
          "text": [
            "50000\n",
            "Anna\n"
          ]
        }
      ]
    },
    {
      "cell_type": "code",
      "source": [
        "class Wolf:\n",
        "  def __init__(self, name, color):\n",
        "    self.name = name\n",
        "    self.color = color\n",
        "  def says(self):\n",
        "    print('grr')\n",
        "\n",
        "class Dog(Wolf):\n",
        "  def says(self):\n",
        "    print('woof')\n",
        "\n",
        "class Fox(Wolf):\n",
        "  def says(self):\n",
        "    print('mimimimi')"
      ],
      "metadata": {
        "id": "F8bAOOHsmbsG"
      },
      "execution_count": null,
      "outputs": []
    },
    {
      "cell_type": "code",
      "source": [
        "dog = Dog('spot','brown')\n",
        "dog.says()\n",
        "fox = Fox('foxy','orange')\n",
        "fox.says()"
      ],
      "metadata": {
        "id": "03JO54LtnIpd",
        "colab": {
          "base_uri": "https://localhost:8080/"
        },
        "outputId": "a1e6f28a-9dc1-47db-a47e-6b3d4b011a62"
      },
      "execution_count": null,
      "outputs": [
        {
          "output_type": "stream",
          "name": "stdout",
          "text": [
            "woof\n",
            "mimimimi\n"
          ]
        }
      ]
    },
    {
      "cell_type": "markdown",
      "source": [
        "Advantages of OOP\n",
        "* this __inheritance can be defined - eliminate redundant code__\n",
        "* relationships between objects - higher productivity\n",
        "* __enables data hiding__\n",
        "*  __objects can be created multiple times and co-exist without any interference on namespaces or memory usage__\n",
        "* __easy to partition most work based on objects__\n",
        "* __systems running on OOP are easily upgraded from small to large systems__\n",
        "* __software complexity is easily managed__"
      ],
      "metadata": {
        "id": "ujTxXvaKnwct"
      }
    },
    {
      "cell_type": "code",
      "source": [
        "'''Exercise'''"
      ],
      "metadata": {
        "id": "zXiiVBGfn7dF"
      },
      "execution_count": null,
      "outputs": []
    },
    {
      "cell_type": "markdown",
      "source": [
        "Polymorphism\n",
        "* consequence of inheritance\n",
        "* name may denote instances of many different classes as long as they are related by some common parent class\n",
        "* ability of one object to appear as and be used like another object\n",
        "* enables usage of a class exactly like its parent, so the types aren't mixed\n",
        "* typically happens by defining a parent interface to be reused\n",
        "* it outlines a  bunch of methods, then each child class implements its own version of these methods\n",
        "~~~\n",
        "Shape\n",
        "_^- tRIANGLE\n",
        "_^- circle\n",
        "~~~"
      ],
      "metadata": {
        "id": "gJcsQAlhn9rV"
      }
    },
    {
      "cell_type": "code",
      "source": [
        "class Shape:\n",
        "  def __init__(self,name):\n",
        "    self.name = name\n",
        "  def getArea(self): # polymorphism\n",
        "    return \"Sorry, you don't have dimensions yet\"\n",
        "\n",
        "class Triangle(Shape):\n",
        "  def __init__(self, name, base, height):\n",
        "    Shape.__init__(self,name)\n",
        "    self.base = base\n",
        "    self.height = height\n",
        "  def getArea(self): # polymorphism\n",
        "    return 0.5*self.base*self.height\n",
        "\n",
        "class Circle(Shape):\n",
        "  def __init__(self, name, radius):\n",
        "    self.radius = radius\n",
        "  def getArea(self): # polymorphism\n",
        "    return 3.1414*(self.radius**2)"
      ],
      "metadata": {
        "id": "g07ewvNgosDE"
      },
      "execution_count": null,
      "outputs": []
    },
    {
      "cell_type": "code",
      "source": [
        "phineas = Triangle('Tatsulok', 5,5)\n",
        "phineas.getArea()"
      ],
      "metadata": {
        "colab": {
          "base_uri": "https://localhost:8080/"
        },
        "id": "G48h_J2Tpg1B",
        "outputId": "f049bc01-58cd-401a-d20f-5f08bc23268b"
      },
      "execution_count": null,
      "outputs": [
        {
          "output_type": "execute_result",
          "data": {
            "text/plain": [
              "12.5"
            ]
          },
          "metadata": {},
          "execution_count": 14
        }
      ]
    },
    {
      "cell_type": "code",
      "source": [
        "pedro = Circle('Bilog', 9)\n",
        "pedro.getArea()"
      ],
      "metadata": {
        "colab": {
          "base_uri": "https://localhost:8080/"
        },
        "id": "uH7hQfGMqAEc",
        "outputId": "5f008427-d813-4863-ed2d-b452d1dff559"
      },
      "execution_count": null,
      "outputs": [
        {
          "output_type": "execute_result",
          "data": {
            "text/plain": [
              "254.4534"
            ]
          },
          "metadata": {},
          "execution_count": 15
        }
      ]
    },
    {
      "cell_type": "markdown",
      "source": [
        "Object Based\n",
        "* supports usage of object and encapsulation\n",
        "* does not support inheritance or polymorphism\n",
        "* does not support built-in objects\n",
        "* ex: javascript, vb\n",
        "\n",
        "Object oriented\n",
        "* supports all features of OOP including inheritance and polymorphism\n",
        "* supports built-in objects\n",
        "* ex: python, java"
      ],
      "metadata": {
        "id": "vSeYfjuyqO83"
      }
    },
    {
      "cell_type": "code",
      "source": [
        "'''EXERCISE'''\n"
      ],
      "metadata": {
        "id": "9Pdrr7crtD3w"
      },
      "execution_count": null,
      "outputs": []
    },
    {
      "cell_type": "markdown",
      "source": [
        "Association, Composition and Aggregation\n",
        "\n",
        "Association\n",
        "* models what is called a 'knows a' relationship\n",
        "~~~\n",
        "Class A\n",
        "  |\n",
        "Class B\n",
        "#class A KNOWS class B\n",
        "~~~\n",
        "~~~\n",
        "Student\n",
        "  |\n",
        "Instructor\n",
        "Student learns from instructor\n",
        "Instructor teaches student\n",
        "~~~\n",
        "\n"
      ],
      "metadata": {
        "id": "fdwy7K7otGHO"
      }
    },
    {
      "cell_type": "markdown",
      "source": [
        "Composition\n",
        "* models what is called an 'has a' relationship\n",
        "~~~\n",
        "Class A\n",
        "◆\n",
        "|\n",
        "Class B\n",
        "# class A CONTAINS on object of Class B\n",
        "~~~\n",
        "~~~\n",
        "Person\n",
        "_◆-- Head\n",
        "_◆-- Hand\n",
        "_◆-- Leg\n",
        "~~~"
      ],
      "metadata": {
        "id": "mWrdp66fuM8T"
      }
    },
    {
      "cell_type": "markdown",
      "source": [
        "Aggregation\n",
        "* models what is called a 'part of' relationship\n",
        "~~~\n",
        "Class A\n",
        "♢\n",
        "|\n",
        "Class B\n",
        "#class B is A PART OF class A\n",
        "~~~\n",
        "~~~\n",
        "Car\n",
        "_♢--Engine\n",
        "_♢--Wheel\n",
        "~~~"
      ],
      "metadata": {
        "id": "h7nA7AG7u22d"
      }
    },
    {
      "cell_type": "markdown",
      "source": [
        "Relationships of Classes\n",
        "* define relationships of objects or classes\n",
        "* association - classes are linked in any type of way- specifically composition or aggregation\n",
        "* composition - we create object inside the class; upon deleting the class, the object is also deleted\n",
        "* aggregation - we create the objects independently; the aggregate object can exist without the other"
      ],
      "metadata": {
        "id": "8ORoelfgvS30"
      }
    },
    {
      "cell_type": "markdown",
      "source": [
        "* scale\n",
        "* automation\n",
        "* reusability\n",
        "\n",
        "* data systems & analysis\n",
        "* product development\n",
        "* infrastructure and security\n",
        "\n",
        "\n"
      ],
      "metadata": {
        "id": "sqCCE8D5_Aal"
      }
    },
    {
      "cell_type": "markdown",
      "source": [
        "Advantages of OOP\n",
        "* __inheritance can be defined - eliminate redundant code__\n",
        "* this __relationships between objects - higher productivity__\n",
        "* __enables data hiding__\n",
        "*  __objects can be created multiple times and co-exist without any interference on namespaces or memory usage__\n",
        "* __easy to partition most work based on objects__\n",
        "* __systems running on OOP are easily upgraded from small to large systems__\n",
        "* __software complexity is easily managed__"
      ],
      "metadata": {
        "id": "aaHWrYPuwFs6"
      }
    },
    {
      "cell_type": "code",
      "source": [
        "'''EXERCISE'''"
      ],
      "metadata": {
        "id": "Q5m5kypzwOk0"
      },
      "execution_count": null,
      "outputs": []
    },
    {
      "cell_type": "code",
      "source": [
        "class Point:\n",
        "  def __init__(self,x,y):\n",
        "    try:\n",
        "      self.x = float(x)\n",
        "      self.y = float(y)\n",
        "    except:\n",
        "      print('Please use numbers')"
      ],
      "metadata": {
        "id": "5r3N1dEnyxZ3"
      },
      "execution_count": null,
      "outputs": []
    },
    {
      "cell_type": "code",
      "source": [
        "class ControlPoint(Point):\n",
        "  def __init__(self,x,y,name,accuracy):\n",
        "    Point.__init__(self,x,y)\n",
        "    self.name = name\n",
        "    self.__accuracy = accuracy\n",
        "\n",
        "  def getAcc(self):\n",
        "    return self.__accuracy\n",
        "\n",
        "  def setAcc(self, attempt):\n",
        "    raise ValueError('You cannot change the accuracy of this Control Point')"
      ],
      "metadata": {
        "id": "QBQhIcXQzomx"
      },
      "execution_count": null,
      "outputs": []
    },
    {
      "cell_type": "code",
      "source": [
        "cp = ControlPoint(2,3,'CP1','Tertiary')"
      ],
      "metadata": {
        "id": "0UO-0eZO0MtZ"
      },
      "execution_count": null,
      "outputs": []
    },
    {
      "cell_type": "code",
      "source": [
        "cp.getAcc()"
      ],
      "metadata": {
        "colab": {
          "base_uri": "https://localhost:8080/",
          "height": 35
        },
        "id": "qSLEo4TN0vRP",
        "outputId": "da0f97da-d788-47ec-90d7-f271f3826053"
      },
      "execution_count": null,
      "outputs": [
        {
          "output_type": "execute_result",
          "data": {
            "text/plain": [
              "'Tertiary'"
            ],
            "application/vnd.google.colaboratory.intrinsic+json": {
              "type": "string"
            }
          },
          "metadata": {},
          "execution_count": 55
        }
      ]
    }
  ]
}